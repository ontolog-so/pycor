{
 "cells": [
  {
   "cell_type": "code",
   "execution_count": 1,
   "metadata": {},
   "outputs": [
    {
     "name": "stdout",
     "output_type": "stream",
     "text": [
      "Init Trainer\n",
      "Init DocResolver\n",
      "total files: 3224\n",
      "0.0.7\n"
     ]
    }
   ],
   "source": [
    "import os\n",
    "import sys\n",
    "sys.path.insert(0, '../')\n",
    "import pycor\n",
    "import pycor.utils as utils\n",
    "from pycor.res import SentenceResolver\n",
    "\n",
    "docsize = 100\n",
    "\n",
    "filelist = []\n",
    "filelist.extend( utils.listfiles(\"../../data/wiki2\",\"*.txt\") )\n",
    "filelist.extend( utils.listfiles(\"../../data/wiki\",\"*.txt\") )\n",
    "\n",
    "\n",
    "print (\"total files:\", len(filelist))\n",
    "\n",
    "outputpath = \"../../output/sentences/\" \n",
    "\n",
    "os.makedirs(outputpath, exist_ok=True)\n",
    "\n",
    "print(pycor.version())\n",
    "\n",
    "sentenceResolver = SentenceResolver(outputpath+\"/sentences-\"+ str(docsize) +\".txt\")\n",
    "pycor.addresolver(sentenceResolver)\n"
   ]
  },
  {
   "cell_type": "code",
   "execution_count": 2,
   "metadata": {},
   "outputs": [
    {
     "name": "stdout",
     "output_type": "stream",
     "text": [
      "Loading Training Data - size: 100\n",
      "100>Single Count: 7530\n",
      "용언 Count: 1848\n",
      "체언 Count: 6763\n",
      "Ambiguous Count: 1081\n",
      "Heads Count: 27084\n",
      "Collocations Count: 0\n",
      "Tails Count: 394\n",
      "Clear words size: 28363\n",
      "Trained  100 files : ellapsed time 7,784 ms.\n"
     ]
    }
   ],
   "source": [
    "pycor.trainfiles(filelist[:docsize])"
   ]
  }
 ],
 "metadata": {
  "kernelspec": {
   "display_name": "Environment (conda_conda)",
   "language": "python",
   "name": "conda_conda"
  },
  "language_info": {
   "codemirror_mode": {
    "name": "ipython",
    "version": 3
   },
   "file_extension": ".py",
   "mimetype": "text/x-python",
   "name": "python",
   "nbconvert_exporter": "python",
   "pygments_lexer": "ipython3",
   "version": "3.6.5"
  }
 },
 "nbformat": 4,
 "nbformat_minor": 2
}
