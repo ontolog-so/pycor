{
 "cells": [
  {
   "cell_type": "code",
   "execution_count": 1,
   "metadata": {},
   "outputs": [
    {
     "name": "stdout",
     "output_type": "stream",
     "text": [
      "Init SentenceParser\n",
      "Init Trainer\n",
      "Init SentenceParser\n",
      "Init DocResolver\n"
     ]
    }
   ],
   "source": [
    "import sys\n",
    "sys.path.insert(0, '../')\n",
    "import pycor.utils as utl"
   ]
  },
  {
   "cell_type": "code",
   "execution_count": 6,
   "metadata": {},
   "outputs": [
    {
     "data": {
      "text/plain": [
       "['../.DS_Store',\n",
       " '../dist/pycor-0.0.3-py3-none-any.whl',\n",
       " '../dist/pycor-0.0.3.tar.gz',\n",
       " '../README.md',\n",
       " '../samples/02_confused.txt',\n",
       " '../samples/04_incorrect.txt',\n",
       " '../samples/01_sampletext.txt',\n",
       " '../samples/news/new1_joins.txt',\n",
       " '../samples/news/new1_hani.txt',\n",
       " '../samples/news/new1_khan.txt',\n",
       " '../samples/news/new1_nocut.txt',\n",
       " '../samples/03_complex.txt',\n",
       " '../samples/01_todo.txt',\n",
       " '../setup.py',\n",
       " '../.gitignore',\n",
       " '../build/lib/pycor/langmodel.py',\n",
       " '../build/lib/pycor/korutils.py',\n",
       " '../build/lib/pycor/docresolver.py',\n",
       " '../build/lib/pycor/korlangmodel.py',\n",
       " '../build/lib/pycor/__init__.py',\n",
       " '../build/lib/pycor/std/aux.py',\n",
       " '../build/lib/pycor/std/korstandard.py',\n",
       " '../build/lib/pycor/std/single.py',\n",
       " '../build/lib/pycor/std/__init__.py',\n",
       " '../build/lib/pycor/std/irregular.py',\n",
       " '../build/lib/pycor/std/stem.py',\n",
       " '../build/lib/pycor/std/suffix.py',\n",
       " '../build/lib/pycor/parser.py',\n",
       " '../build/lib/pycor/utils.py',\n",
       " '../build/lib/pycor/trainer.py',\n",
       " '../build/lib/pycor/speechmodel.py',\n",
       " '../.git/hooks/commit-msg.sample',\n",
       " '../.git/hooks/pre-rebase.sample',\n",
       " '../.git/hooks/pre-commit.sample',\n",
       " '../.git/hooks/applypatch-msg.sample',\n",
       " '../.git/hooks/prepare-commit-msg.sample',\n",
       " '../.git/hooks/post-update.sample',\n",
       " '../.git/hooks/pre-applypatch.sample',\n",
       " '../.git/hooks/pre-push.sample',\n",
       " '../.git/hooks/update.sample',\n",
       " '../.vscode/settings.json',\n",
       " '../notebooks/parser.ipynb',\n",
       " '../notebooks/devtest.ipynb',\n",
       " '../notebooks/.DS_Store',\n",
       " '../notebooks/bechmark.ipynb',\n",
       " '../notebooks/trainer.ipynb',\n",
       " '../notebooks/.ipynb_checkpoints/parallel-checkpoint.ipynb',\n",
       " '../notebooks/.ipynb_checkpoints/trainer-checkpoint.ipynb',\n",
       " '../notebooks/.ipynb_checkpoints/wikipedia-checkpoint.ipynb',\n",
       " '../notebooks/.ipynb_checkpoints/devtest-checkpoint.ipynb',\n",
       " '../notebooks/.ipynb_checkpoints/bechmark-checkpoint.ipynb',\n",
       " '../notebooks/.ipynb_checkpoints/nn-checkpoint.ipynb',\n",
       " '../notebooks/.ipynb_checkpoints/tails_ngram-checkpoint.ipynb',\n",
       " '../notebooks/.ipynb_checkpoints/trainer2-checkpoint.ipynb',\n",
       " '../notebooks/.ipynb_checkpoints/word2vec-checkpoint.ipynb',\n",
       " '../notebooks/.ipynb_checkpoints/parser-checkpoint.ipynb',\n",
       " '../notebooks/wikipedia.ipynb',\n",
       " '../pycor/langmodel.py',\n",
       " '../pycor/korutils.py',\n",
       " '../pycor/docresolver.py',\n",
       " '../pycor/korlangmodel.py',\n",
       " '../pycor/__init__.py',\n",
       " '../pycor/std/aux.py',\n",
       " '../pycor/std/korstandard.py',\n",
       " '../pycor/std/single.py',\n",
       " '../pycor/std/__init__.py',\n",
       " '../pycor/std/__pycache__/korstandard.cpython-36.pyc',\n",
       " '../pycor/std/__pycache__/suffix.cpython-36.pyc',\n",
       " '../pycor/std/__pycache__/irregular.cpython-36.pyc',\n",
       " '../pycor/std/__pycache__/aux.cpython-36.pyc',\n",
       " '../pycor/std/__pycache__/__init__.cpython-36.pyc',\n",
       " '../pycor/std/__pycache__/stem.cpython-36.pyc',\n",
       " '../pycor/std/__pycache__/single.cpython-36.pyc',\n",
       " '../pycor/std/irregular.py',\n",
       " '../pycor/std/stem.py',\n",
       " '../pycor/std/suffix.py',\n",
       " '../pycor/__pycache__/parser.cpython-36.pyc',\n",
       " '../pycor/__pycache__/_korlang.cpython-36.pyc',\n",
       " '../pycor/__pycache__/korlang.cpython-36.pyc',\n",
       " '../pycor/__pycache__/docresolver.cpython-36.pyc',\n",
       " '../pycor/__pycache__/speechmodel.cpython-36.pyc',\n",
       " '../pycor/__pycache__/korlangmodel.cpython-36.pyc',\n",
       " '../pycor/__pycache__/utils.cpython-36.pyc',\n",
       " '../pycor/__pycache__/trainer.cpython-36.pyc',\n",
       " '../pycor/__pycache__/korutils.cpython-36.pyc',\n",
       " '../pycor/__pycache__/__init__.cpython-36.pyc',\n",
       " '../pycor/__pycache__/langmodel.cpython-36.pyc',\n",
       " '../pycor/parser.py',\n",
       " '../pycor/utils.py',\n",
       " '../pycor/.ipynb_checkpoints/trainer-checkpoint.py',\n",
       " '../pycor/trainer.py',\n",
       " '../pycor/speechmodel.py',\n",
       " '../pycor/korlang.py']"
      ]
     },
     "execution_count": 6,
     "metadata": {},
     "output_type": "execute_result"
    }
   ],
   "source": [
    "utl.listfiles('../', pattern=\"*.*\")"
   ]
  },
  {
   "cell_type": "code",
   "execution_count": null,
   "metadata": {},
   "outputs": [],
   "source": []
  }
 ],
 "metadata": {
  "kernelspec": {
   "display_name": "Environment (conda_conda)",
   "language": "python",
   "name": "conda_conda"
  },
  "language_info": {
   "codemirror_mode": {
    "name": "ipython",
    "version": 3
   },
   "file_extension": ".py",
   "mimetype": "text/x-python",
   "name": "python",
   "nbconvert_exporter": "python",
   "pygments_lexer": "ipython3",
   "version": "3.6.5"
  }
 },
 "nbformat": 4,
 "nbformat_minor": 2
}
