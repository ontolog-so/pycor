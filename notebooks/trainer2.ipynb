{
 "cells": [
  {
   "cell_type": "code",
   "execution_count": 1,
   "metadata": {},
   "outputs": [
    {
     "name": "stdout",
     "output_type": "stream",
     "text": [
      "Init SentenceParser\n",
      "Init Trainer\n"
     ]
    }
   ],
   "source": [
    "import sys\n",
    "sys.path.insert(0, '../')\n",
    "import pycor.trainer as tr\n",
    "import pycor.std.korstandard\n",
    "\n",
    "trainer = tr.Trainer()\n",
    "\n",
    "def probeHead(head, tags, pos, score):\n",
    "    print(' ', head, head.pos, tags, pos,score)\n",
    "    if len(head.tails) == 0:\n",
    "        return \"Single\"\n",
    "    else:\n",
    "        for tail in head.tails:\n",
    "            print('   ',tail)\n",
    "        \n",
    "def probeWordHead(word):\n",
    "    print(word.text)\n",
    "    for part in word.particles:\n",
    "        probeHead(part.head, part.tags, part.pos, part.score)\n",
    "            \n",
    "def probeWordHeads(sentence):\n",
    "    words_array = trainer.scoreDocument(trainer.readrow(sentence))\n",
    "    for words in words_array:\n",
    "        for word in words:\n",
    "            probeWordHead(word)\n",
    "\n",
    "def printWords(sentence):\n",
    "    words_array = trainer.scoreDocument(trainer.readrow(sentence))\n",
    "    for words in words_array:\n",
    "        for word in words:\n",
    "            print(word.bestpair.head, word.bestpair.tail.text, word.bestpair.tags, word.bestpair.pos)\n",
    "            for part in word.particles:\n",
    "                print(' ', part.head, part.tail, part.score, part.tags, part.pos)\n",
    "\n",
    "\n",
    "\n",
    "\n"
   ]
  },
  {
   "cell_type": "code",
   "execution_count": 2,
   "metadata": {},
   "outputs": [
    {
     "name": "stdout",
     "output_type": "stream",
     "text": [
      "고정한 다 ['EFN'] set()\n",
      "  고정한 다:{'EFN'}:1 0.91 ['EFN'] set()\n",
      "  고정하 ㄴ다:set():1 0.91 ['EFN'] set()\n"
     ]
    }
   ],
   "source": [
    "\n",
    "printWords(\"고정한다\")\n"
   ]
  },
  {
   "cell_type": "code",
   "execution_count": 3,
   "metadata": {},
   "outputs": [
    {
     "name": "stdout",
     "output_type": "stream",
     "text": [
      "고정한다\n",
      "  고정한 set() ['EFN'] set() 0.91\n",
      "    다:{'EFN'}:1\n",
      "  고정하 set() ['EFN'] set() 0.91\n",
      "    ㄴ다:set():1\n"
     ]
    }
   ],
   "source": [
    "probeWordHeads(\"고정한다\")"
   ]
  },
  {
   "cell_type": "code",
   "execution_count": 4,
   "metadata": {},
   "outputs": [
    {
     "name": "stdout",
     "output_type": "stream",
     "text": [
      "나는\n",
      "  나 set() ['ETM'] set() -38.79\n",
      "    는:{'JX-SO'}:1\n",
      "  나 set() ['JX-SO'] set() 0.91\n",
      "    는:{'JX-SO'}:1\n",
      "그것의\n",
      "  그것 {'NP'} ['JKG'] set() 0.91\n",
      "    의:{'JKG'}:1\n",
      "  그것 {'NP'} ['JKG'] {'NP'} 20.91\n",
      "    의:{'JKG'}:1\n",
      "이미지를\n",
      "  이미지 set() ['JKO'] set() 0.91\n",
      "    를:{'JKO'}:1\n",
      "알\n",
      "  알 set() [] set() 0.0\n",
      "수\n",
      "  수 {'DN'} ['DN'] {'DN'} 0.0\n",
      "없다\n",
      "  없 {'Y'} ['EFN'] set() 0.8200000000000001\n",
      "    다:{'EFN', 'V'}:2\n",
      "  없 {'Y'} ['EFN', 'V'] {'Y'} 20.82\n",
      "    다:{'EFN', 'V'}:2\n"
     ]
    }
   ],
   "source": [
    "probeWordHeads(\"나는 그것의 이미지를 알 수 없다\")"
   ]
  },
  {
   "cell_type": "code",
   "execution_count": 5,
   "metadata": {},
   "outputs": [
    {
     "name": "stdout",
     "output_type": "stream",
     "text": [
      "한국어\n",
      "  한국 set() ['EFO'] set() 0.73\n",
      "    어:{'EFO'}:3\n",
      "영어\n",
      "  영 set() ['EFO'] set() 0.73\n",
      "    어:{'EFO'}:3\n",
      "이탈리아어\n",
      "등\n",
      "  등 set() [] set() 0.0\n",
      "언어\n",
      "  언 set() ['EFO'] set() 0.73\n",
      "    어:{'EFO'}:3\n"
     ]
    }
   ],
   "source": [
    "probeWordHeads(\"한국어 영어 이탈리아어 등 언어\")"
   ]
  },
  {
   "cell_type": "code",
   "execution_count": null,
   "metadata": {},
   "outputs": [],
   "source": []
  }
 ],
 "metadata": {
  "kernelspec": {
   "display_name": "Environment (conda_conda)",
   "language": "python",
   "name": "conda_conda"
  },
  "language_info": {
   "codemirror_mode": {
    "name": "ipython",
    "version": 3
   },
   "file_extension": ".py",
   "mimetype": "text/x-python",
   "name": "python",
   "nbconvert_exporter": "python",
   "pygments_lexer": "ipython3",
   "version": "3.6.5"
  }
 },
 "nbformat": 4,
 "nbformat_minor": 2
}
