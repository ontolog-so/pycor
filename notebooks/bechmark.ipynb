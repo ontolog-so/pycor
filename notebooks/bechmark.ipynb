{
 "cells": [
  {
   "cell_type": "code",
   "execution_count": 1,
   "metadata": {},
   "outputs": [
    {
     "name": "stdout",
     "output_type": "stream",
     "text": [
      "files:\t 2796\n",
      "docsize: 70\n"
     ]
    }
   ],
   "source": [
    "import time\n",
    "import csv\n",
    "import os\n",
    "import MeCab\n",
    "from pathlib import Path\n",
    "import sys\n",
    "sys.path.insert(0, '../')\n",
    "import pycor.utils\n",
    "import pycor.parser as ps\n",
    "import pycor.trainer as tr\n",
    "import pycor.langmodel as lm\n",
    "import pycor.speechmodel as sm\n",
    "import pycor.korutils as ku\n",
    "from pycor.std import *\n",
    "\n",
    "stopwatch = utils.StopWatch()\n",
    "\n",
    "docsize = 70\n",
    "\n",
    "outputpath = \"../../output/\"\n",
    "\n",
    "\n",
    "def listfiles(path):\n",
    "    result_arr = []\n",
    "    filenames = os.listdir(path)\n",
    "    for filename in filenames:\n",
    "        full_filename = os.path.join(path, filename)\n",
    "        result_arr.append(full_filename)\n",
    "    return result_arr\n",
    "\n",
    "files = listfiles('../samples')\n",
    "files = sorted(files)\n",
    "files.extend( listfiles('../../data/wiki') )\n",
    "files.extend( listfiles('../../data/NP') )\n",
    "\n",
    "print (\"files:\\t\",len(files))\n",
    "print (\"docsize:\", docsize)"
   ]
  },
  {
   "cell_type": "code",
   "execution_count": 2,
   "metadata": {},
   "outputs": [
    {
     "name": "stdout",
     "output_type": "stream",
     "text": [
      "MeCab Loading Texts:  2s.719ms. ( 2,719 ms.)\n"
     ]
    }
   ],
   "source": [
    "\n",
    "dicpath=\"/usr/local/lib/mecab/dic/mecab-ko-dic\"\n",
    "tagger = MeCab.Tagger('-d ' + dicpath)\n",
    "\n",
    "stopwatch = utils.StopWatch()\n",
    "\n",
    "for file in files[:docsize]:\n",
    "    if file.endswith(\".txt\") :\n",
    "        with open(file, 'r', encoding='utf-8') as file :\n",
    "            for line in file.readlines():\n",
    "                tagger.parse(line)\n",
    "            file.close() \n",
    "\n",
    "print(\"MeCab Loading Texts: \" , stopwatch.secmilli() , \"(\", stopwatch.millisecstr(), \"ms.)\") \n",
    "        \n",
    "        "
   ]
  },
  {
   "cell_type": "code",
   "execution_count": 3,
   "metadata": {},
   "outputs": [
    {
     "name": "stdout",
     "output_type": "stream",
     "text": [
      "Init SentenceParser\n",
      "Load  ../../output/model//heads.csv   소요시간: 0.113\n",
      "Load  ../../output/model//tails.csv   소요시간: 0.007\n",
      "Pykor Loading Texts:  3s.167ms. ( 3,167 ms.)\n",
      "Word Count :  35,401\n",
      "head Count :  28,003\n",
      "tail Count :  330\n"
     ]
    }
   ],
   "source": [
    "parser = ps.SentenceParser()\n",
    "\n",
    "parser.wordmap.load(outputpath + \"model/\")\n",
    "\n",
    "\n",
    "stopwatch.start()\n",
    "\n",
    "for file in files[:docsize]:\n",
    "    if file.endswith(\".txt\") :\n",
    "        parser.loadfile(file, verbose=False)\n",
    "\n",
    "print(\"Pykor Loading Texts: \" , stopwatch.secmilli() , \"(\", stopwatch.millisecstr(), \"ms.)\")\n",
    "print(\"Word Count : \" , utils.comma(len(parser.wordmap.words)) )\n",
    "print(\"head Count : \" , utils.comma(len(parser.wordmap.heads)) )\n",
    "print(\"tail Count : \" , utils.comma(len(parser.wordmap.tails)) )\n",
    "\n"
   ]
  },
  {
   "cell_type": "code",
   "execution_count": null,
   "metadata": {},
   "outputs": [],
   "source": []
  }
 ],
 "metadata": {
  "kernelspec": {
   "display_name": "Environment (conda_conda)",
   "language": "python",
   "name": "conda_conda"
  },
  "language_info": {
   "codemirror_mode": {
    "name": "ipython",
    "version": 3
   },
   "file_extension": ".py",
   "mimetype": "text/x-python",
   "name": "python",
   "nbconvert_exporter": "python",
   "pygments_lexer": "ipython3",
   "version": "3.6.5"
  }
 },
 "nbformat": 4,
 "nbformat_minor": 2
}
