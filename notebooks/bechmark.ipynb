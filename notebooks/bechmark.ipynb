{
 "cells": [
  {
   "cell_type": "code",
   "execution_count": 1,
   "metadata": {},
   "outputs": [
    {
     "name": "stdout",
     "output_type": "stream",
     "text": [
      "Init Trainer\n",
      "Init DocResolver\n",
      "files:\t 2948\n",
      "docsize: 700\n"
     ]
    }
   ],
   "source": [
    "import time\n",
    "import csv\n",
    "import os\n",
    "import MeCab\n",
    "from pathlib import Path\n",
    "import sys\n",
    "sys.path.insert(0, '../')\n",
    "import pycor\n",
    "from pycor import utils\n",
    "\n",
    "\n",
    "stopwatch = utils.StopWatch()\n",
    "\n",
    "docsize = 700\n",
    "\n",
    "outputpath = \"../../output/\" + str(docsize) + \"/\"\n",
    "model_path = outputpath + \"model\"\n",
    "\n",
    "\n",
    "def listfiles(path):\n",
    "    result_arr = []\n",
    "    filenames = os.listdir(path)\n",
    "    for filename in filenames:\n",
    "        full_filename = os.path.join(path, filename)\n",
    "        result_arr.append(full_filename)\n",
    "    return result_arr\n",
    "\n",
    "files = listfiles('../samples')\n",
    "files = sorted(files)\n",
    "files.extend( listfiles('../../data/wiki') )\n",
    "files.extend( listfiles('../../data/NP') )\n",
    "\n",
    "print (\"files:\\t\",len(files))\n",
    "print (\"docsize:\", docsize)"
   ]
  },
  {
   "cell_type": "code",
   "execution_count": 2,
   "metadata": {},
   "outputs": [
    {
     "name": "stdout",
     "output_type": "stream",
     "text": [
      "MeCab Loading Texts:  10s.036ms. ( 10,036 ms.)\n"
     ]
    }
   ],
   "source": [
    "\n",
    "dicpath=\"/usr/local/lib/mecab/dic/mecab-ko-dic\"\n",
    "tagger = MeCab.Tagger('-d ' + dicpath)\n",
    "\n",
    "stopwatch = utils.StopWatch()\n",
    "\n",
    "for file in files[:docsize]:\n",
    "    if file.endswith(\".txt\") :\n",
    "        with open(file, 'r', encoding='utf-8') as file :\n",
    "            for line in file.readlines():\n",
    "                tagger.parse(line)\n",
    "            file.close() \n",
    "\n",
    "print(\"MeCab Loading Texts: \" , stopwatch.secmilli() , \"(\", stopwatch.millisecstr(), \"ms.)\") \n",
    "        \n",
    "        "
   ]
  },
  {
   "cell_type": "code",
   "execution_count": 3,
   "metadata": {},
   "outputs": [
    {
     "name": "stdout",
     "output_type": "stream",
     "text": [
      "PyCor Loading Texts:  64s.460ms. ( 64,459 ms.)\n",
      "Word Count :  203,059\n",
      "head Count :  162,690\n",
      "tail Count :  727\n"
     ]
    }
   ],
   "source": [
    "\n",
    "stopwatch.start()\n",
    "\n",
    "for file in files[:docsize]:\n",
    "    if file.endswith(\".txt\") :\n",
    "        pycor.readfile(file)\n",
    "\n",
    "wordmap = pycor.getmodel()\n",
    "print(\"PyCor Loading Texts: \" , stopwatch.secmilli() , \"(\", stopwatch.millisecstr(), \"ms.)\")\n",
    "print(\"Word Count : \" , utils.comma(len(wordmap.words)) )\n",
    "print(\"head Count : \" , utils.comma(len(wordmap.heads)) )\n",
    "print(\"tail Count : \" , utils.comma(len(wordmap.tails)) )"
   ]
  },
  {
   "cell_type": "code",
   "execution_count": null,
   "metadata": {},
   "outputs": [],
   "source": []
  }
 ],
 "metadata": {
  "kernelspec": {
   "display_name": "Environment (conda_conda)",
   "language": "python",
   "name": "conda_conda"
  },
  "language_info": {
   "codemirror_mode": {
    "name": "ipython",
    "version": 3
   },
   "file_extension": ".py",
   "mimetype": "text/x-python",
   "name": "python",
   "nbconvert_exporter": "python",
   "pygments_lexer": "ipython3",
   "version": "3.6.5"
  }
 },
 "nbformat": 4,
 "nbformat_minor": 2
}
