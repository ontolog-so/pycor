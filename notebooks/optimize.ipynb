{
 "cells": [
  {
   "cell_type": "code",
   "execution_count": 1,
   "metadata": {},
   "outputs": [
    {
     "name": "stdout",
     "output_type": "stream",
     "text": [
      "Init Trainer\n",
      "Init DocResolver\n",
      "0.0.7\n"
     ]
    }
   ],
   "source": [
    "import sys\n",
    "sys.path.insert(0, '../')\n",
    "import pycor\n",
    "import pycor.langmodel as lm\n",
    "print(pycor.version())\n",
    "\n",
    "docsize = 30\n",
    "\n",
    "training_data_dir = \"../../data\"\n",
    "data_dir = \"../samples\"\n",
    "outputpath = \"../../output/\" + str(docsize) + \"/\"\n",
    "model_path = outputpath + \"model\"\n"
   ]
  },
  {
   "cell_type": "code",
   "execution_count": 3,
   "metadata": {},
   "outputs": [
    {
     "name": "stdout",
     "output_type": "stream",
     "text": [
      "[StemAux[주의] ISM, Aux[의] JKG]\n",
      "[MultiSyllablesAux[되어] None, Aux[어] EFO, Aux[어] EC-by]\n",
      "[Aux[려] None, MultiSyllablesAux[그려] JX]\n",
      "[Aux[돼] None]\n",
      "[Aux[해] None]\n",
      "[Aux[져] None]\n",
      "[Aux[겨] None]\n",
      "[Aux[쳐] None]\n",
      "[Aux[지] None, Aux[지] EFQ, Aux[지] EFO, MultiSyllablesAux[든지] EC-or, MultiSyllablesAux[까지] JX, MultiSyllablesAux[든지] JX, Aux[지] None]\n",
      "[Aux[켜] EPT-pp]\n",
      "[StemAux[하] None]\n",
      "[Aux[던] EPT-pp]\n",
      "[MultiSyllablesAux[리라] EPT-f, Aux[라,래] EFN, Aux[라] EFO, Aux[라] None, MultiSyllablesAux[따라] JX, Aux[라] None]\n",
      "[Aux[기] ETN]\n",
      "[Aux[은] ETM, MultiSyllablesAux[같은] JKG-as, Aux[은] JX-SO]\n",
      "[Aux[는] ETM, Aux[는] JX-SO, MultiSyllablesAux[마는] JX]\n",
      "[Aux[인] ETM+JKP]\n",
      "[Aux[일] ETM+JKP]\n",
      "[Aux[른,춘,선,린,룬,된,친,한,낸,진] ETM]\n",
      "[Aux[른,춘,선,린,룬,된,친,한,낸,진] ETM]\n",
      "[Aux[른,춘,선,린,룬,된,친,한,낸,진] ETM, MultiSyllablesAux[에선] JKB-FM, MultiSyllablesAux[에게선] JKB-FM]\n",
      "[Aux[른,춘,선,린,룬,된,친,한,낸,진] ETM, Aux[난,넌,린] JX-SO]\n",
      "[Aux[른,춘,선,린,룬,된,친,한,낸,진] ETM]\n",
      "[Aux[른,춘,선,린,룬,된,친,한,낸,진] ETM]\n",
      "[Aux[른,춘,선,린,룬,된,친,한,낸,진] ETM]\n",
      "[Aux[른,춘,선,린,룬,된,친,한,낸,진] ETM, Aux[한] None]\n",
      "[Aux[른,춘,선,린,룬,된,친,한,낸,진] ETM]\n",
      "[Aux[른,춘,선,린,룬,된,친,한,낸,진] ETM, Aux[진] ETM]\n",
      "[Aux[을] ETM, Aux[을] JKO]\n",
      "[Aux[할,를,출,룰,낼,질,칠,설,릴,될] ETM]\n",
      "[Aux[할,를,출,룰,낼,질,칠,설,릴,될] ETM, Aux[를] JKO]\n",
      "[Aux[할,를,출,룰,낼,질,칠,설,릴,될] ETM]\n",
      "[Aux[할,를,출,룰,낼,질,칠,설,릴,될] ETM]\n",
      "[Aux[할,를,출,룰,낼,질,칠,설,릴,될] ETM]\n",
      "[Aux[할,를,출,룰,낼,질,칠,설,릴,될] ETM, Aux[질] ETM]\n",
      "[Aux[할,를,출,룰,낼,질,칠,설,릴,될] ETM]\n",
      "[Aux[할,를,출,룰,낼,질,칠,설,릴,될] ETM]\n",
      "[Aux[할,를,출,룰,낼,질,칠,설,릴,될] ETM]\n",
      "[Aux[할,를,출,룰,낼,질,칠,설,릴,될] ETM]\n",
      "[Aux[킨] ETM]\n",
      "[Aux[킬] ETM]\n",
      "[Aux[이] ETA, Aux[이] JKS, Aux[이] JKC, MultiSyllablesAux[같이] JKB-LK, MultiSyllablesAux[듯이] MAG]\n",
      "[Aux[게] ETA, Aux[게,걸] EFN, Aux[게] EC-for, MultiSyllablesAux[에게] JKB-TO, Aux[게] None]\n",
      "[MultiSyllablesAux[도록] ETA, MultiSyllablesAux[도록] EC-for, MultiSyllablesAux[토록] JX]\n",
      "[Aux[다] EFN, MultiSyllablesAux[니다] EFN, MultiSyllablesAux[단다] EFN, MultiSyllablesAux[란다] EFN, MultiSyllablesAux[시다] EFA, MultiSyllablesAux[도다] EFI, Aux[다] EC-and, Aux[다] JKP, Aux[다] JKP-da, MultiSyllablesAux[보다] JKB-CM, MultiSyllablesAux[에다] JC, MultiSyllablesAux[마다] JX]\n",
      "[MultiSyllablesAux[구나] EFN, MultiSyllablesAux[려무나] EFO, MultiSyllablesAux[구나] EFI, Aux[나] EC-but, MultiSyllablesAux[거나] EC-or, Aux[나] JX]\n",
      "[Aux[군] EFN]\n",
      "[Aux[네] EFN]\n",
      "[Aux[마] EFN, MultiSyllablesAux[나마] JX]\n",
      "[Aux[게,걸] EFN]\n",
      "[Aux[라,래] EFN, MultiSyllablesAux[그래] JX]\n",
      "[Aux[냐] EFQ, MultiSyllablesAux[쏘냐] EFQ]\n",
      "[Aux[니] EFQ, Aux[니] EC-because, Aux[니] EC-while]\n",
      "[Aux[가] EFQ-ga, MultiSyllablesAux[다가] EC-and, Aux[가] JKS, Aux[가] JKC]\n",
      "[Aux[까] EFQ, MultiSyllablesAux[니까] EC-because]\n",
      "[Aux[련] EFQ]\n",
      "[Aux[렴] EFO]\n",
      "[MultiSyllablesAux[소서] EFO, MultiSyllablesAux[면서] EC-and, Aux[서] EC-because, Aux[서] EC-by, Aux[서] JKS, MultiSyllablesAux[에서] JKB-FM, MultiSyllablesAux[에게서] JKB-FM, MultiSyllablesAux[로서] JKB-AS, MultiSyllablesAux[으로서] JKB-AS]\n",
      "[Aux[아] EFO, Aux[아] EC-by, Aux[아] JKV]\n",
      "[Aux[자] EFA, Aux[자] EC-and, MultiSyllablesAux[고자] EC-for]\n",
      "[Aux[세] EFA]\n",
      "[Aux[고] EC-and, MultiSyllablesAux[려고] EC-for, Aux[고] EC-by, Aux[고] JKQ, MultiSyllablesAux[하고] JC, MultiSyllablesAux[치고] JX]\n",
      "[Aux[며] EC-and, MultiSyllablesAux[이며] JC]\n",
      "[Aux[만] EC-but, Aux[만] JX]\n",
      "[Aux[데] EC-but, Aux[데] EC-while]\n",
      "[Aux[도] EC-but, Aux[도] EC-may, MultiSyllablesAux[지라도] EC-evenif, MultiSyllablesAux[더라도] EC-evenif, Aux[도] JX-SO]\n",
      "[MultiSyllablesAux[므로] EC-because, MultiSyllablesAux[야말로] JKS, Aux[로] JKB-TT|AS|BY, MultiSyllablesAux[대로] JX]\n",
      "[Aux[면] EC-incase, MultiSyllablesAux[려면] EC-to, MultiSyllablesAux[자면] EC-to]\n",
      "[Aux[야] EC-incase, Aux[야] JKV, Aux[야] JX]\n",
      "[Aux[러] EC-for, Aux[러] None]\n",
      "[Aux[에] JKB-TO, Aux[에] JKB-AT, MultiSyllablesAux[밖에] JX, Aux[에] None]\n",
      "[Aux[엔] JKB-TO]\n",
      "[MultiSyllablesAux[에겐] JKB-TO]\n",
      "[Aux[께] JKB-TO]\n",
      "[Aux[껜] JKB-TO]\n",
      "[MultiSyllablesAux[한테] JKB-TO]\n",
      "[MultiSyllablesAux[한텐] JKB-TO]\n",
      "[MultiSyllablesAux[부터] JKB-FM, MultiSyllablesAux[부터] JX-from]\n",
      "[MultiSyllablesAux[부턴] JKB-FM, MultiSyllablesAux[부턴] JX-from]\n",
      "[MultiSyllablesAux[으로써] JKB-BY]\n",
      "[Aux[와] JKB-WZ, Aux[와] JC, Aux[와] ADJ|V+IRB, Aux[와] ADJ|V+IRB]\n",
      "[Aux[과] JKB-WZ, Aux[과] JC]\n",
      "[Aux[랑] JKB-WZ, Aux[랑] JC, MultiSyllablesAux[일랑] JX]\n",
      "[MultiSyllablesAux[처럼] JKB-LK]\n",
      "[Aux[여] JKV]\n",
      "[MultiSyllablesAux[마저] JX]\n",
      "[MultiSyllablesAux[조차] JX]\n",
      "[Aux[뿐] JX]\n",
      "[MultiSyllablesAux[커녕] JX]\n",
      "[Aux[손] JX]\n",
      "[Aux[들] JX]\n",
      "[Aux[즉] JX, MultiSyllablesAux[인즉] JX]\n",
      "[Aux[란] JX]\n",
      "[MultiSyllablesAux[때문] None]\n",
      "[MultiSyllablesAux[만큼] None]\n",
      "[MultiSyllablesAux[만치] None]\n",
      "[Aux[수] None]\n",
      "[Aux[운] ADJ|V+IRB]\n",
      "[Aux[울] ADJ|V+IRB, Aux[울] ADJ|V+IRB]\n",
      "[Aux[워] ADJ|V+IRB, Aux[워] ADJ|V+IRB]\n"
     ]
    }
   ],
   "source": [
    "for auxs in lm.auxmap.values():\n",
    "    print(auxs)"
   ]
  },
  {
   "cell_type": "code",
   "execution_count": null,
   "metadata": {},
   "outputs": [],
   "source": []
  }
 ],
 "metadata": {
  "kernelspec": {
   "display_name": "Environment (conda_conda)",
   "language": "python",
   "name": "conda_conda"
  },
  "language_info": {
   "codemirror_mode": {
    "name": "ipython",
    "version": 3
   },
   "file_extension": ".py",
   "mimetype": "text/x-python",
   "name": "python",
   "nbconvert_exporter": "python",
   "pygments_lexer": "ipython3",
   "version": "3.6.5"
  }
 },
 "nbformat": 4,
 "nbformat_minor": 2
}
