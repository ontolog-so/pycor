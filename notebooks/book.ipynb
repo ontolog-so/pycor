{
 "cells": [
  {
   "cell_type": "code",
   "execution_count": 1,
   "metadata": {},
   "outputs": [
    {
     "name": "stdout",
     "output_type": "stream",
     "text": [
      "Init Trainer\n",
      "Init DocResolver\n",
      "0.0.6\n"
     ]
    }
   ],
   "source": [
    "import sys\n",
    "sys.path.insert(0, '../')\n",
    "import pycor\n",
    "from pycor.res import CollocationResolver\n",
    "\n",
    "\n",
    "training_data_dir = \"../../data/NP\"\n",
    "data_dir = \"../samples\"\n",
    "outputpath = \"../../output/NP/\"\n",
    "model_path = outputpath + \"model\"\n",
    "\n",
    "print(pycor.version())\n",
    "\n",
    "resolver = CollocationResolver()\n",
    "pycor.addresolver(resolver)\n"
   ]
  },
  {
   "cell_type": "code",
   "execution_count": null,
   "metadata": {},
   "outputs": [
    {
     "name": "stdout",
     "output_type": "stream",
     "text": [
      "Loading Training Data - size: 4\n"
     ]
    }
   ],
   "source": [
    "\n",
    "pycor.train(training_data_dir, pattern=\"*.txt\")"
   ]
  },
  {
   "cell_type": "code",
   "execution_count": null,
   "metadata": {},
   "outputs": [],
   "source": [
    "pycor.savemodel(model_path)"
   ]
  },
  {
   "cell_type": "code",
   "execution_count": null,
   "metadata": {},
   "outputs": [],
   "source": [
    "coldict = {}\n",
    "wordmap = pycor.getmodel()\n",
    "\n",
    "for colloc in wordmap.collocations.values():\n",
    "    if colloc.frequency > 30:\n",
    "        coldict[colloc.text] = colloc.texts"
   ]
  },
  {
   "cell_type": "code",
   "execution_count": null,
   "metadata": {},
   "outputs": [],
   "source": [
    "for col in coldict.values():\n",
    "    end = len(col)-1\n",
    "    last = col[end]\n",
    "    \n",
    "    endHead = wordmap.heads.get(col[end])\n",
    "    \n",
    "    if endHead is None:\n",
    "        word = pycor.resolveword(last)\n",
    "        if word.bestpair:\n",
    "            endHead = word.bestpair.head\n",
    "        else:\n",
    "            endHead = word.text\n",
    "    print(endHead)"
   ]
  },
  {
   "cell_type": "code",
   "execution_count": null,
   "metadata": {},
   "outputs": [],
   "source": [
    "def printHead(text):\n",
    "    word = pycor.resolveword(text)\n",
    "    if word.bestpair:\n",
    "        print(word.bestpair.head)\n",
    "        for pair in word.particles:\n",
    "            print(' ', pair.head, pair.head.score)\n",
    "    else:\n",
    "        for pair in word.particles:\n",
    "            print(pair.head)\n",
    "\n",
    "\n",
    "printHead(\"없었다\")   \n",
    "printHead(\"먹고있었다\")  \n",
    "printHead(\"먹고있다\")    \n",
    "printHead(\"갔었다\")     \n",
    "printHead(\"먹었다\")     \n",
    "printHead(\"적다\")         "
   ]
  },
  {
   "cell_type": "code",
   "execution_count": null,
   "metadata": {},
   "outputs": [],
   "source": []
  }
 ],
 "metadata": {
  "kernelspec": {
   "display_name": "Environment (conda_conda)",
   "language": "python",
   "name": "conda_conda"
  },
  "language_info": {
   "codemirror_mode": {
    "name": "ipython",
    "version": 3
   },
   "file_extension": ".py",
   "mimetype": "text/x-python",
   "name": "python",
   "nbconvert_exporter": "python",
   "pygments_lexer": "ipython3",
   "version": "3.6.5"
  }
 },
 "nbformat": 4,
 "nbformat_minor": 2
}
