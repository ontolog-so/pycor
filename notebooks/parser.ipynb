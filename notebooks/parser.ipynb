{
 "cells": [
  {
   "cell_type": "code",
   "execution_count": 1,
   "metadata": {},
   "outputs": [
    {
     "name": "stdout",
     "output_type": "stream",
     "text": [
      "Init SentenceParser\n",
      "Init DocResolver\n",
      "Load  ../../output/model/700/heads.csv   소요시간: 0.369\n",
      "Load  ../../output/model/700/tails.csv   소요시간: 0.01\n"
     ]
    }
   ],
   "source": [
    "import time\n",
    "import csv\n",
    "import os\n",
    "from pathlib import Path\n",
    "import sys\n",
    "sys.path.insert(0, '../')\n",
    "import pycor.utils as utils\n",
    "import pycor.parser as ps\n",
    "import pycor.docresolver as dr\n",
    "import pycor.langmodel as langmodel\n",
    "import pycor.speechmodel as sm\n",
    "import pycor.korutils as ku\n",
    "import pycor.std.korstandard\n",
    "\n",
    "stopwatch = utils.StopWatch()\n",
    "\n",
    "\n",
    "docsize = 2\n",
    "\n",
    "model_size = 700\n",
    "outputpath = \"../../output/\"\n",
    "model_path = outputpath + \"model/\" + str(model_size)\n",
    "\n",
    "parser = ps.SentenceParser()\n",
    "resolver = dr.DocResolver()\n",
    "\n",
    "parser.wordmap.load(model_path)\n",
    "\n",
    "resolver.setwordmap(parser.wordmap)"
   ]
  },
  {
   "cell_type": "code",
   "execution_count": 2,
   "metadata": {},
   "outputs": [
    {
     "name": "stdout",
     "output_type": "stream",
     "text": [
      "3066 files\n"
     ]
    }
   ],
   "source": [
    "\n",
    "def listfiles(path):\n",
    "    result_arr = []\n",
    "    filenames = os.listdir(path)\n",
    "    for filename in filenames:\n",
    "        full_filename = os.path.join(path, filename)\n",
    "        result_arr.append(full_filename)\n",
    "    return result_arr\n",
    "    \n",
    "files = []\n",
    "files.extend( listfiles('../samples/news') )\n",
    "files.extend( listfiles('../../data/blotter') )\n",
    "files.extend( listfiles('../../data/zdnet') )\n",
    "files.extend( listfiles('../../data/ciobiz') )\n",
    "files.extend( listfiles('../../data/wiki') )\n",
    "files.extend( listfiles('../../data/NP') )\n",
    "\n",
    "print (len(files), \"files\")\n"
   ]
  },
  {
   "cell_type": "code",
   "execution_count": 3,
   "metadata": {},
   "outputs": [
    {
     "name": "stdout",
     "output_type": "stream",
     "text": [
      "../samples/news/new1_joins.txt\n",
      "===========\n",
      "{전: 4, 지역: 6, 태풍예비특보: 4, 태풍: 6, 광주: 4, 22일: 6, 오후: 5, 오전: 2, 3시: 2, 약: 3, 부근: 3, 해상: 4, 23일: 2, 밤: 3, 일부: 2, 곳: 3, 바람: 2, 영향권: 2, 해안: 2}\n",
      "------------\n",
      "Sentence Count: 3\n",
      "제19호 태풍 [ 솔릭 [ SOULIK ] ] 이 북상함에 따라 광주와 전남 전 지역에 태풍예비특보가 내려졌다 . \n",
      "태풍은 22일 오후 서귀포 해상을 지나 23일 오전 9시께 목포 남서쪽 약 120 해상에 이를 것으로 전망된다 . \n",
      "[ 솔릭 ] 의 직간접적 영향으로 22일 밤부터 23일 오후까지 광주와 전남 전 지역에 100250의 비가 내리겠다 . \n",
      "../samples/news/new1_hani.txt\n",
      "===========\n",
      "{태풍: 9, 솔릭: 3, 제주: 2, 비상: 4, 제주도: 5, 휴: 3, 사용: 2, 하: 3, 피해: 2, 대비: 3, 태세: 2, 공무원: 2, 등: 3, 최대: 2, 바람: 2, 예상: 2, 이상: 2, 근무: 2, 활동: 2, 강화: 2, 상황: 2}\n",
      "------------\n",
      "Sentence Count: 3\n",
      "제19호 태풍 솔릭이 제주도를 관통할 것으로 보여 제주도에 비상이 걸렸다 . \n",
      "제주도는 공무원들의 휴가 사용을 제한하는가 하면 태풍 피해를 최소화하기 위한 대비 태세에 들어갔다 . \n",
      "제주도는 태풍 솔릭의 북상에 따라 2223일 공무원의 연가 등 휴가 사용을 제한하고 휴가 중인 공무원 전원을 업무에 복귀시켜 피해 예방을 위한 대비 태세에 나섰다고 21일 밝혔다 . \n",
      "Loading Texts:  0s.058ms. ( 58 ms.)\n"
     ]
    }
   ],
   "source": [
    "\n",
    "def printKwywords(keywords, words_array):\n",
    "    print(\"===========\")\n",
    "    print(keywords)\n",
    "\n",
    "def summarizeDocument(file, rate=0.1, count=3):\n",
    "    if file.endswith(\".txt\") :\n",
    "        print(file)\n",
    "        sentence_array, words_array = parser.loadfile(file, verbose=False)\n",
    "        keywords = resolver.extractKeywords(words_array, rate)\n",
    "        if len(keywords) < 1:\n",
    "            rate /= 2\n",
    "            keywords = resolver.extractKeywords(words_array, rate)\n",
    "        print(\"===========\")\n",
    "        print(keywords)\n",
    "        print(\"------------\")\n",
    "        sentences = resolver.abstractDocument(keywords, words_array, count)\n",
    "        dr.printSentences(sentences)\n",
    "        return words_array\n",
    "\n",
    "\n",
    "def extractKw(file, rate=0.1):\n",
    "    if file.endswith(\".txt\") :\n",
    "        print(file)\n",
    "        sentence_array, words_array = parser.loadfile(file, verbose=False)\n",
    "        keywords = resolver.extractKeywords(words_array,rate)\n",
    "        printKwywords(keywords, words_array)\n",
    "\n",
    "\n",
    "stopwatch.start()\n",
    "\n",
    "for file in files[:docsize]:\n",
    "#     extractKw(file, 0.05)\n",
    "    summarizeDocument(file, 0.05, 3)\n",
    "\n",
    "# extractKw(\"../data/NP/mp-all.txt\",0.1)\n",
    "# summarizeDocument(\"../data/NP/mp-all.txt\",0.1)\n",
    "# summarizeDocument(\"../data/wiki/%EB%8B%A8%EB%B0%B1%EC%A7%88.txt\",0.1)\n",
    "# summarizeDocument(\"samples/01_sampletext.txt\")\n",
    "# summarizeDocument(\"../data/wiki/%EC%A0%95%EB%B3%B4%20%EC%9D%B4%EB%A1%A0.txt\")\n",
    "\n",
    "print(\"Loading Texts: \" , stopwatch.secmilli() , \"(\", stopwatch.millisecstr(), \"ms.)\")"
   ]
  },
  {
   "cell_type": "code",
   "execution_count": 4,
   "metadata": {},
   "outputs": [
    {
     "name": "stdout",
     "output_type": "stream",
     "text": [
      "../samples/news/new1_joins.txt\n",
      "===========\n",
      "{솔릭: 5, 전: 4, 지역: 6, 태풍예비특보: 4, 태풍: 6, 광주: 4, 22일: 6, 오후: 5, 오전: 2, 3시: 2, 약: 3, 부근: 3, 해상: 4, 23일: 2, 밤: 3, 일부: 2, 곳: 3, 바람: 2, 영향권: 2, 해안: 2}\n",
      "------------\n",
      "Sentence Count: 3\n",
      "제19호 태풍 [ 솔릭 [ SOULIK ] ] 이 북상함에 따라 광주와 전남 전 지역에 태풍예비특보가 내려졌다 . \n",
      "태풍 [ 솔릭 ] 은 이날 오후 3시 기준 일본 가고시마 남쪽 약 380 부근 해상에서 시속 23의 속도로 북서진하고 있다 . \n",
      "태풍은 22일 오후 서귀포 해상을 지나 23일 오전 9시께 목포 남서쪽 약 120 해상에 이를 것으로 전망된다 . \n",
      "../samples/news/new1_hani.txt\n",
      "===========\n",
      "{태풍: 9, 솔릭: 3, 제주: 2, 비상: 4, 제주도: 5, 휴: 3, 사용: 2, 하: 3, 피해: 2, 대비: 3, 태세: 2, 공무원: 2, 등: 3, 최대: 2, 바람: 2, 예상: 2, 이상: 2, 근무: 2, 활동: 2, 강화: 2, 상황: 2}\n",
      "------------\n",
      "Sentence Count: 3\n",
      "제19호 태풍 솔릭이 제주도를 관통할 것으로 보여 제주도에 비상이 걸렸다 . \n",
      "제주도는 공무원들의 휴가 사용을 제한하는가 하면 태풍 피해를 최소화하기 위한 대비 태세에 들어갔다 . \n",
      "제주도는 태풍 솔릭의 북상에 따라 2223일 공무원의 연가 등 휴가 사용을 제한하고 휴가 중인 공무원 전원을 업무에 복귀시켜 피해 예방을 위한 대비 태세에 나섰다고 21일 밝혔다 . \n",
      "../samples/news/new1_khan.txt\n",
      "===========\n",
      "{정부: 2, 태풍: 8, 대비: 5, 가동: 2, 솔릭: 2, 대응: 2, 이날: 2, 오후: 2, 강풍: 3, 피해: 2, 행안부: 2, 댐: 2, 상황: 2, 사전: 2, 하: 2}\n",
      "------------\n",
      "Sentence Count: 3\n",
      "제19호 태풍 [ 솔릭 ] 이 오는 23일을 전후해 한반도를 강타할 것으로 예상되면서 정부가 21일 중앙재난안전대책본부를 가동하고 대응에 나섰다 . \n",
      "행정안전부는 이날 오후 5시 긴급대책회의를 열어 태풍 위기경보 수준을 [ 경계단계 ] 로 격상하고 오후 6시를 기해 태풍 대비 중대본을 운영한다고 밝혔다 . \n",
      "높은 파고와 강풍에 대비해 수산농업시설 안전대책을 사전에 시행하고 농어업인들이 태풍 때 시설관리를 위해 외출하는 일을 삼가도록 홍보도 강화하기로 했다 . \n",
      "../samples/news/new1_nocut.txt\n",
      "===========\n",
      "{태풍: 9, 솔릭: 4, 2010년: 2, 8월: 2, 기상청: 4, 서해안: 3, 서울: 2, 경로: 2, 피해: 5, 바람: 2, 등: 2, 북부: 2}\n",
      "------------\n",
      "Sentence Count: 3\n",
      "제19호 태풍 [ 솔릭 ] 과 가장 비슷한 태풍으로 2010년 8월에 발생한 제7호 태풍 [ 곤파스 ] 가 꼽혔다 . \n",
      "21일 기상청에 따르면 태풍 [ 솔릭 ] 은 23일 제주도를 지나 서해안을 따라 서울에 상륙한 뒤 24일 오전 강원도 방향으로 빠져나갈 것으로 전망된다 . \n",
      "기상청은 태풍의 진행 경로를 중심으로 우리나라에 접근할 때 중심기압 기압계 배치 강도 세기 등을 고려해 태풍의 유사성을 따진다 . \n",
      "======== Merge News ==========\n",
      "{솔릭: 14, 태풍: 32}\n",
      "Sentence Count: 6\n",
      "제19호 태풍 [ 솔릭 [ SOULIK ] ] 이 북상함에 따라 광주와 전남 전 지역에 태풍예비특보가 내려졌다 . \n",
      "태풍 [ 솔릭 ] 은 이날 오후 3시 기준 일본 가고시마 남쪽 약 380 부근 해상에서 시속 23의 속도로 북서진하고 있다 . \n",
      "이번 태풍은 최대 풍속 시속 140에 이르는 중형급 태풍으로 강한 바람과 많은 비를 동반하며 제주지역을 지날 것으로 예상하고 있다 . \n",
      "앞서 제주도 재난안전대책본부는 지난 20일 오전 9시부터 태풍 특보 발효 때까지 비상 1단계 근무를 하며 시설안전 및 예찰 활동 강화 공사현장 안전 조치 장비 점검 등 태풍 상황에 대비하고 있다 . \n",
      "행정안전부는 이날 오후 5시 긴급대책회의를 열어 태풍 위기경보 수준을 [ 경계단계 ] 로 격상하고 오후 6시를 기해 태풍 대비 중대본을 운영한다고 밝혔다 . \n",
      "김부겸 행안부 장관은 [ 8월3일부터 운영된 [ 범정부 폭염대책본부 ] 를 태풍 대비 중대본 체제로 신속하게 전환해 태풍 대비에 누수가 발생하지 않도록 노력해 주기 바란다 ] 라고 말했다 . \n"
     ]
    }
   ],
   "source": [
    "words_array_list = []\n",
    "\n",
    "for file in files[:4]:\n",
    "    words_array = summarizeDocument(file, 0.05, 3)\n",
    "    words_array_list.append(words_array)\n",
    "\n",
    "print(\"======== Merge News ==========\")\n",
    "sentences = resolver.mergeDocuments(words_array_list, 0.3, 6)\n",
    "\n",
    "dr.printSentences(sentences)\n"
   ]
  },
  {
   "cell_type": "code",
   "execution_count": null,
   "metadata": {},
   "outputs": [],
   "source": []
  }
 ],
 "metadata": {
  "kernelspec": {
   "display_name": "Environment (conda_conda)",
   "language": "python",
   "name": "conda_conda"
  },
  "language_info": {
   "codemirror_mode": {
    "name": "ipython",
    "version": 3
   },
   "file_extension": ".py",
   "mimetype": "text/x-python",
   "name": "python",
   "nbconvert_exporter": "python",
   "pygments_lexer": "ipython3",
   "version": "3.6.5"
  }
 },
 "nbformat": 4,
 "nbformat_minor": 2
}
