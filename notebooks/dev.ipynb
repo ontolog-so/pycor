{
 "cells": [
  {
   "cell_type": "code",
   "execution_count": 1,
   "metadata": {},
   "outputs": [
    {
     "name": "stdout",
     "output_type": "stream",
     "text": [
      "Init Trainer\n",
      "Init DocResolver\n",
      "total files: 3240\n",
      "0.0.7\n"
     ]
    }
   ],
   "source": [
    "import os\n",
    "import sys\n",
    "sys.path.insert(0, '../')\n",
    "import pycor\n",
    "import pycor.utils as utils\n",
    "from pycor.res import CollocationResolver\n",
    "from pycor.res import yongeonresolver as yr\n",
    "\n",
    "docsize = 3000\n",
    "\n",
    "filelist = utils.listfiles(\"../samples\",\"*.txt\")\n",
    "filelist = sorted(filelist)\n",
    "filelist.extend( utils.listfiles(\"../../data/wiki2\",\"*.txt\") )\n",
    "filelist.extend( utils.listfiles(\"../../data/wiki\",\"*.txt\") )\n",
    "\n",
    "\n",
    "print (\"total files:\", len(filelist))\n",
    "\n",
    "outputpath = \"../../output/\" + str(docsize)\n",
    "model_path = outputpath + \"/model\"\n",
    "\n",
    "os.makedirs(outputpath, exist_ok=True)\n",
    "os.makedirs(model_path, exist_ok=True)\n",
    "\n",
    "print(pycor.version())\n",
    "\n",
    "# resolver = CollocationResolver()\n",
    "# pycor.addresolver(resolver)\n",
    "\n",
    "yongeonResolver = yr.YongeonResolver()\n",
    "pycor.addresolver(yongeonResolver)"
   ]
  },
  {
   "cell_type": "code",
   "execution_count": 2,
   "metadata": {},
   "outputs": [
    {
     "name": "stdout",
     "output_type": "stream",
     "text": [
      "Loading Training Data - size: 3000\n",
      "100>200>300>400>Single Count: 32493\n",
      "용언 Count: 3842\n",
      "체언 Count: 21867\n",
      "Ambiguous Count: 4210\n",
      "Heads Count: 91167\n",
      "Collocations Count: 0\n",
      "Tails Count: 595\n",
      "Clear words size: 100326\n",
      "500>600>Single Count: 37548\n",
      "용언 Count: 4636\n",
      "체언 Count: 22245\n",
      "Ambiguous Count: 2738\n",
      "Heads Count: 150406\n",
      "Collocations Count: 0\n",
      "Tails Count: 701\n",
      "Clear words size: 100315\n",
      "700>800>900>Single Count: 40277\n",
      "용언 Count: 4612\n",
      "체언 Count: 23382\n",
      "Ambiguous Count: 2283\n",
      "Heads Count: 198962\n",
      "Collocations Count: 0\n",
      "Tails Count: 755\n",
      "Clear words size: 102749\n",
      "1000>\n",
      "1100>1200>Single Count: 38702\n",
      "용언 Count: 4817\n",
      "체언 Count: 24143\n",
      "Ambiguous Count: 2325\n",
      "Heads Count: 239703\n",
      "Collocations Count: 0\n",
      "Tails Count: 793\n",
      "Clear words size: 100992\n",
      "1300>1400>1500>Single Count: 39378\n",
      "용언 Count: 4893\n",
      "체언 Count: 25414\n",
      "Ambiguous Count: 1836\n",
      "Heads Count: 281340\n",
      "Collocations Count: 0\n",
      "Tails Count: 830\n",
      "Clear words size: 100042\n",
      "1600>1700>Single Count: 39644\n",
      "용언 Count: 4922\n",
      "체언 Count: 25668\n",
      "Ambiguous Count: 1889\n",
      "Heads Count: 317301\n",
      "Collocations Count: 0\n",
      "Tails Count: 848\n",
      "Clear words size: 100219\n",
      "1800>1900>2000>\n",
      "Single Count: 39379\n",
      "용언 Count: 4862\n",
      "체언 Count: 25943\n",
      "Ambiguous Count: 1709\n",
      "Heads Count: 348791\n",
      "Collocations Count: 0\n",
      "Tails Count: 868\n",
      "Clear words size: 100097\n",
      "2100>2200>2300>Single Count: 38413\n",
      "용언 Count: 5092\n",
      "체언 Count: 26931\n",
      "Ambiguous Count: 1682\n",
      "Heads Count: 379924\n",
      "Collocations Count: 0\n",
      "Tails Count: 892\n",
      "Clear words size: 100378\n",
      "2400>2500>2600>Single Count: 41511\n",
      "용언 Count: 5030\n",
      "체언 Count: 25660\n",
      "Ambiguous Count: 1708\n",
      "Heads Count: 411468\n",
      "Collocations Count: 0\n",
      "Tails Count: 911\n",
      "Clear words size: 100005\n",
      "2700>2800>Single Count: 40135\n",
      "용언 Count: 5220\n",
      "체언 Count: 27306\n",
      "Ambiguous Count: 1548\n",
      "Heads Count: 441609\n",
      "Collocations Count: 0\n",
      "Tails Count: 921\n",
      "Clear words size: 100111\n",
      "2900>3000>\n",
      "Single Count: 21103\n",
      "용언 Count: 3266\n",
      "체언 Count: 16852\n",
      "Ambiguous Count: 794\n",
      "Heads Count: 455526\n",
      "Collocations Count: 0\n",
      "Tails Count: 930\n",
      "Clear words size: 51639\n",
      "Trained  3000 files : ellapsed time 635,168 ms.\n"
     ]
    }
   ],
   "source": [
    "pycor.trainfiles(filelist[:docsize], debugPath=outputpath)"
   ]
  },
  {
   "cell_type": "code",
   "execution_count": 3,
   "metadata": {},
   "outputs": [
    {
     "name": "stdout",
     "output_type": "stream",
     "text": [
      "invalid literal for int() with base 10: ''\n"
     ]
    }
   ],
   "source": [
    "import pycor.dev.model as dev\n",
    "\n",
    "oldmodel = None\n",
    "\n",
    "try:\n",
    "    oldmodel = dev.loadmodel(model_path)\n",
    "except Exception as e:\n",
    "    print(e)\n",
    "\n",
    "if oldmodel:\n",
    "    print(\"Old Heads:\", len(oldmodel.heads))\n",
    "    result = dev.compareHeads(oldmodel.heads, pycor.getmodel().heads)\n",
    "    dev.saveCompHeads(model_path+\"/compare.csv\", result)"
   ]
  },
  {
   "cell_type": "code",
   "execution_count": 4,
   "metadata": {},
   "outputs": [
    {
     "name": "stdout",
     "output_type": "stream",
     "text": [
      "Save  ../../output/3000/yongeon.csv   소요시간: 1.011\n",
      "Save  ../../output/3000/yongeon_index.csv   소요시간: 0.142\n",
      "Saving Model to ../../output/3000/model\n",
      "Save  ../../output/3000/model/heads.csv   소요시간: 4.664\n",
      "Save  ../../output/3000/model/tails.csv   소요시간: 0.013\n",
      "Save  ../../output/3000/model/collocations.csv   소요시간: 0.003\n",
      "Clear Heads: 159357 remains.\n"
     ]
    }
   ],
   "source": [
    "yongeonResolver.clssifyYongEon()\n",
    "yongeonResolver.writemap(outputpath + \"/yongeon.csv\")\n",
    "yongeonResolver.writeindex(outputpath + \"/yongeon_index.csv\")\n",
    "\n",
    "pycor.savemodel(model_path)"
   ]
  },
  {
   "cell_type": "code",
   "execution_count": 5,
   "metadata": {},
   "outputs": [
    {
     "name": "stdout",
     "output_type": "stream",
     "text": [
      "Loading Model from ../../output/3000/model\n",
      "Load  ../../output/3000/model/heads.csv   소요시간: 12.563\n",
      "Load  ../../output/3000/model/tails.csv   소요시간: 0.014\n",
      "Saving Model to ../../output/3000/model\n",
      "Save  ../../output/3000/model/heads.csv   소요시간: 3.604\n",
      "Save  ../../output/3000/model/tails.csv   소요시간: 0.009\n",
      "Save  ../../output/3000/model/collocations.csv   소요시간: 0.002\n",
      "Clear Heads: 159357 remains.\n"
     ]
    }
   ],
   "source": [
    "pycor.loadmodel(model_path)\n",
    "pycor.savemodel(model_path)"
   ]
  },
  {
   "cell_type": "code",
   "execution_count": null,
   "metadata": {},
   "outputs": [],
   "source": []
  }
 ],
 "metadata": {
  "kernelspec": {
   "display_name": "Environment (conda_conda)",
   "language": "python",
   "name": "conda_conda"
  },
  "language_info": {
   "codemirror_mode": {
    "name": "ipython",
    "version": 3
   },
   "file_extension": ".py",
   "mimetype": "text/x-python",
   "name": "python",
   "nbconvert_exporter": "python",
   "pygments_lexer": "ipython3",
   "version": "3.6.5"
  }
 },
 "nbformat": 4,
 "nbformat_minor": 2
}
