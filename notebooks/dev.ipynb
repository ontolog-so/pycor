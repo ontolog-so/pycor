{
 "cells": [
  {
   "cell_type": "code",
   "execution_count": 1,
   "metadata": {},
   "outputs": [
    {
     "name": "stdout",
     "output_type": "stream",
     "text": [
      "Init Trainer\n",
      "Init DocResolver\n",
      "total files: 3240\n",
      "0.0.7\n"
     ]
    }
   ],
   "source": [
    "import os\n",
    "import sys\n",
    "sys.path.insert(0, '../')\n",
    "import pycor\n",
    "import pycor.utils as utils\n",
    "from pycor.res import CollocationResolver\n",
    "from pycor.res import yongeonresolver as yr\n",
    "\n",
    "docsize = 30\n",
    "\n",
    "filelist = utils.listfiles(\"../samples\",\"*.txt\")\n",
    "filelist = sorted(filelist)\n",
    "filelist.extend( utils.listfiles(\"../../data/wiki2\",\"*.txt\") )\n",
    "filelist.extend( utils.listfiles(\"../../data/wiki\",\"*.txt\") )\n",
    "\n",
    "\n",
    "print (\"total files:\", len(filelist))\n",
    "\n",
    "outputpath = \"../../output/\" + str(docsize)\n",
    "model_path = outputpath + \"/model\"\n",
    "\n",
    "os.makedirs(outputpath, exist_ok=True)\n",
    "os.makedirs(model_path, exist_ok=True)\n",
    "\n",
    "print(pycor.version())\n",
    "\n",
    "# resolver = CollocationResolver()\n",
    "# pycor.addresolver(resolver)\n",
    "\n",
    "yongeonResolver = yr.YongeonResolver()\n",
    "pycor.addresolver(yongeonResolver)"
   ]
  },
  {
   "cell_type": "code",
   "execution_count": 2,
   "metadata": {},
   "outputs": [
    {
     "name": "stdout",
     "output_type": "stream",
     "text": [
      "Loading Training Data - size: 30\n",
      "Single Count: 1150\n",
      "용언 Count: 312\n",
      "체언 Count: 1327\n",
      "Ambiguous Count: 243\n",
      "Heads Count: 4716\n",
      "Collocations Count: 0\n",
      "Tails Count: 243\n",
      "Clear words size: 4347\n",
      "Trained  30 files : ellapsed time 932 ms.\n"
     ]
    }
   ],
   "source": [
    "pycor.trainfiles(filelist[:docsize], debugPath=outputpath)"
   ]
  },
  {
   "cell_type": "code",
   "execution_count": 3,
   "metadata": {},
   "outputs": [
    {
     "name": "stdout",
     "output_type": "stream",
     "text": [
      "Load  ../../output/30/model/heads.csv   소요시간: 0.032\n",
      "Load  ../../output/30/model/tails.csv   소요시간: 0.007\n",
      "Old Heads: 3039\n"
     ]
    }
   ],
   "source": [
    "import pycor.dev.model as dev\n",
    "\n",
    "oldmodel = None\n",
    "\n",
    "try:\n",
    "    oldmodel = dev.loadmodel(model_path)\n",
    "except Exception as e:\n",
    "    print(e)\n",
    "\n",
    "if oldmodel:\n",
    "    print(\"Old Heads:\", len(oldmodel.heads))\n",
    "    result = dev.compareHeads(oldmodel.heads, pycor.getmodel().heads)\n",
    "    dev.saveCompHeads(model_path+\"/compare.csv\", result)"
   ]
  },
  {
   "cell_type": "code",
   "execution_count": 4,
   "metadata": {},
   "outputs": [
    {
     "name": "stdout",
     "output_type": "stream",
     "text": [
      "Save  ../../output/30/yongeon.csv   소요시간: 0.017\n",
      "Save  ../../output/30/yongeon_index.csv   소요시간: 0.006\n",
      "Saving Model to ../../output/30/model\n",
      "Save  ../../output/30/model/heads.csv   소요시간: 0.032\n",
      "Save  ../../output/30/model/tails.csv   소요시간: 0.006\n",
      "Save  ../../output/30/model/collocations.csv   소요시간: 0.003\n",
      "Clear Heads: 1682 remains.\n"
     ]
    }
   ],
   "source": [
    "yongeonResolver.clssifyYongEon()\n",
    "yongeonResolver.writemap(outputpath + \"/yongeon.csv\")\n",
    "yongeonResolver.writeindex(outputpath + \"/yongeon_index.csv\")\n",
    "\n",
    "pycor.savemodel(model_path)"
   ]
  },
  {
   "cell_type": "code",
   "execution_count": null,
   "metadata": {},
   "outputs": [],
   "source": []
  },
  {
   "cell_type": "code",
   "execution_count": null,
   "metadata": {},
   "outputs": [],
   "source": []
  }
 ],
 "metadata": {
  "kernelspec": {
   "display_name": "Environment (conda_conda)",
   "language": "python",
   "name": "conda_conda"
  },
  "language_info": {
   "codemirror_mode": {
    "name": "ipython",
    "version": 3
   },
   "file_extension": ".py",
   "mimetype": "text/x-python",
   "name": "python",
   "nbconvert_exporter": "python",
   "pygments_lexer": "ipython3",
   "version": "3.6.5"
  }
 },
 "nbformat": 4,
 "nbformat_minor": 2
}
