{
 "cells": [
  {
   "cell_type": "code",
   "execution_count": 1,
   "metadata": {},
   "outputs": [
    {
     "name": "stdout",
     "output_type": "stream",
     "text": [
      "Init Trainer\n",
      "Init DocResolver\n",
      "total files: 3240\n",
      "0.0.7\n"
     ]
    }
   ],
   "source": [
    "import os\n",
    "import sys\n",
    "sys.path.insert(0, '../')\n",
    "import pycor\n",
    "import pycor.utils as utils\n",
    "from pycor.res import CollocationResolver\n",
    "from pycor.res import yongeonresolver as yr\n",
    "\n",
    "docsize = 300\n",
    "\n",
    "filelist = utils.listfiles(\"../samples\",\"*.txt\")\n",
    "filelist = sorted(filelist)\n",
    "filelist.extend( utils.listfiles(\"../../data/wiki2\",\"*.txt\") )\n",
    "filelist.extend( utils.listfiles(\"../../data/wiki\",\"*.txt\") )\n",
    "\n",
    "\n",
    "print (\"total files:\", len(filelist))\n",
    "\n",
    "outputpath = \"../../output/\" + str(docsize)\n",
    "model_path = outputpath + \"/model\"\n",
    "\n",
    "os.makedirs(outputpath, exist_ok=True)\n",
    "os.makedirs(model_path, exist_ok=True)\n",
    "\n",
    "print(pycor.version())\n",
    "\n",
    "resolver = CollocationResolver()\n",
    "pycor.addresolver(resolver)\n",
    "\n",
    "yongeonResolver = yr.YongeonResolver()\n",
    "pycor.addresolver(yongeonResolver)"
   ]
  },
  {
   "cell_type": "code",
   "execution_count": 2,
   "metadata": {},
   "outputs": [
    {
     "name": "stdout",
     "output_type": "stream",
     "text": [
      "Loading Training Data - size: 300\n",
      "100>200>300>Single Count: 13388\n",
      "용언 Count: 3211\n",
      "체언 Count: 12853\n",
      "Ambiguous Count: 1397\n",
      "Heads Count: 45180\n",
      "Collocations Count: 2395\n",
      "Tails Count: 514\n",
      "Clear words size: 56743\n",
      "Trained  300 files : ellapsed time 16,233 ms.\n"
     ]
    }
   ],
   "source": [
    "pycor.trainfiles(filelist[:docsize], debugPath=outputpath)"
   ]
  },
  {
   "cell_type": "code",
   "execution_count": 3,
   "metadata": {},
   "outputs": [
    {
     "name": "stdout",
     "output_type": "stream",
     "text": [
      "[Errno 2] No such file or directory: '../../output/300/model/heads.csv'\n"
     ]
    }
   ],
   "source": [
    "import pycor.dev.model as dev\n",
    "\n",
    "oldmodel = None\n",
    "\n",
    "try:\n",
    "    oldmodel = dev.loadmodel(model_path)\n",
    "except Exception as e:\n",
    "    print(e)\n",
    "\n",
    "if oldmodel:\n",
    "    print(\"Old Heads:\", len(oldmodel.heads))\n",
    "    result = dev.compareHeads(oldmodel.heads, pycor.getmodel().heads)\n",
    "    dev.saveCompHeads(model_path+\"/compare.csv\", result)"
   ]
  },
  {
   "cell_type": "code",
   "execution_count": 4,
   "metadata": {},
   "outputs": [
    {
     "name": "stdout",
     "output_type": "stream",
     "text": [
      "Save  ../../output/300/yongeon.csv   소요시간: 0.053\n",
      "Save  ../../output/300/yongeon_index.csv   소요시간: 0.01\n",
      "Saving Model to ../../output/300/model\n",
      "Save  ../../output/300/model/heads.csv   소요시간: 0.204\n",
      "Save  ../../output/300/model/tails.csv   소요시간: 0.006\n",
      "Save  ../../output/300/model/collocations.csv   소요시간: 0.011\n",
      "Clear Heads: 15770 remains.\n"
     ]
    }
   ],
   "source": [
    "yongeonResolver.writemap(outputpath + \"/yongeon.csv\")\n",
    "yongeonResolver.writeindex(outputpath + \"/yongeon_index.csv\")\n",
    "\n",
    "pycor.savemodel(model_path)"
   ]
  }
 ],
 "metadata": {
  "kernelspec": {
   "display_name": "Environment (conda_conda)",
   "language": "python",
   "name": "conda_conda"
  },
  "language_info": {
   "codemirror_mode": {
    "name": "ipython",
    "version": 3
   },
   "file_extension": ".py",
   "mimetype": "text/x-python",
   "name": "python",
   "nbconvert_exporter": "python",
   "pygments_lexer": "ipython3",
   "version": "3.6.5"
  }
 },
 "nbformat": 4,
 "nbformat_minor": 2
}
