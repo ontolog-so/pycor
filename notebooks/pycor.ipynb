{
 "cells": [
  {
   "cell_type": "code",
   "execution_count": 1,
   "metadata": {},
   "outputs": [
    {
     "name": "stdout",
     "output_type": "stream",
     "text": [
      "Init Trainer\n",
      "Init DocResolver\n"
     ]
    }
   ],
   "source": [
    "import sys\n",
    "sys.path.insert(0, '../')\n",
    "import pycor\n",
    "import pycor.scoring as scoring\n",
    "from pycor.res import CollocationResolver\n",
    "\n",
    "docsize = 30\n",
    "\n",
    "training_data_dir = \"../../data\"\n",
    "data_dir = \"../samples\"\n",
    "outputpath = \"../../output/\" + str(docsize) + \"/\"\n",
    "model_path = outputpath + \"model\"\n",
    "\n",
    "print(pycor.version())\n",
    "\n",
    "resolver = CollocationResolver()\n",
    "pycor.addresolver(resolver)\n"
   ]
  },
  {
   "cell_type": "code",
   "execution_count": 2,
   "metadata": {},
   "outputs": [
    {
     "name": "stdout",
     "output_type": "stream",
     "text": [
      "0.0.7\n",
      "Loading Training Data - size: 30\n",
      "Single Count: 843\n",
      "용언 Count: 307\n",
      "체언 Count: 759\n",
      "Ambiguous Count: 171\n",
      "Heads Count: 2878\n",
      "Collocations Count: 48\n",
      "Tails Count: 143\n",
      "Clear words size: 2915\n",
      "Trained  30 files : ellapsed time 3,099 ms.\n"
     ]
    }
   ],
   "source": [
    "pycor.train(training_data_dir, pattern=\"*.txt\", limit=docsize, debugPath=model_path)"
   ]
  },
  {
   "cell_type": "code",
   "execution_count": 3,
   "metadata": {},
   "outputs": [
    {
     "name": "stdout",
     "output_type": "stream",
     "text": [
      "간디에 간디 에 0.8175744761936437 ['JKB-TO'] set()\n",
      "간디에 간디 에 0.8175744761936437 ['JKB-AT'] set()\n",
      "간디:에:{'JKB-TO'}:91\n"
     ]
    }
   ],
   "source": [
    "word = pycor.resolveword('간디에', debug=True)\n",
    "\n",
    "print(word.bestpair)"
   ]
  },
  {
   "cell_type": "code",
   "execution_count": 4,
   "metadata": {},
   "outputs": [
    {
     "name": "stdout",
     "output_type": "stream",
     "text": [
      "Saving Model to ../../output/30/model\n",
      "Save  ../../output/30/model/heads.csv   소요시간: 0.029\n",
      "Save  ../../output/30/model/tails.csv   소요시간: 0.004\n",
      "Save  ../../output/30/model/collocations.csv   소요시간: 0.005\n",
      "Clear Heads: 829 remains.\n"
     ]
    }
   ],
   "source": [
    "pycor.savemodel(model_path)"
   ]
  },
  {
   "cell_type": "code",
   "execution_count": 5,
   "metadata": {},
   "outputs": [
    {
     "name": "stdout",
     "output_type": "stream",
     "text": [
      "Loading Model from ../../output/30/model\n",
      "Load  ../../output/30/model/heads.csv   소요시간: 0.033\n",
      "Load  ../../output/30/model/tails.csv   소요시간: 0.004\n"
     ]
    }
   ],
   "source": [
    "pycor.loadmodel(model_path)\n"
   ]
  },
  {
   "cell_type": "code",
   "execution_count": 6,
   "metadata": {},
   "outputs": [
    {
     "name": "stdout",
     "output_type": "stream",
     "text": [
      "나 ['JX-SO']  하늘 ['JKO']  나 ['JX-SO']  꿈 ['JKO']  꾸 ['EFN', 'EPT-pp']  \n",
      "나 ['JX-SO']  하늘 ['JKO']  나 ['JX-SO']  새 ['JKO']  보았 ['EFN']  \n",
      "가 ['JX-SO']  세월 ['JKB-WZ']  가 ['JX-SO']  실 []  \n",
      "어디 ['JKB-TT|AS|BY']  갈 []  것인가 ['JX-SO']  아직 []  정하 ['EFO']  못하 ['EFN', 'EPT-pp']  \n",
      "이해 ['JKS']  가 ['JX-SO']  상황 ['JKP']  \n",
      "고양 ['ETM', 'JKP']  동물 ['JX-SO']  가축 ['JKP']  \n",
      "고양 ['ETM', 'JKP']  지역 ['JX-SO']  서울 []  서북 []  쪽 ['JKB-TO']  있 ['EFN', 'V']  \n",
      "고양이 ['JKS']  목 ['JKO']  축이 ['EFN']  \n",
      "산양 ['ETM', 'JKP']  짐승 ['JX-SO']  쉽 ['EC-for']  보 ['ETN']  어렵 ['EFN']  \n",
      "산양 ['JX-SO']  높 ['JX-SO']  산 []  암벽 []  위 ['JKB-TO']  살 ['ETN']  때문 ['JKP']  \n",
      "모 ['ETM', 'JKP']  말 ['JKO']  못들 ['EFN', 'EPT-pp']  \n",
      "모 ['ETM', 'JKP']  말 ['JKO']  못들 ['EFN', 'EPT-pp']  \n",
      "모이라 ['JKS']  하 ['JX-SO']  말 ['JKO']  못들 ['EFN', 'EPT-pp']  \n",
      "폼페 ['ETM', 'JKP']  도시 ['JX-SO']  화산재 ['JKB-TO']  묻히 ['EFN', 'EPT-pp']  \n",
      "역시 []  내 ['JKS']  원하 ['JX-SO']  바 ['EFN']  \n",
      "바 ['ETM', 'EFN']  아름답 ['EFN', 'ADJ|V+IRB']  \n",
      "오로라 ['ETM']  자연현상 ['JX-SO']  아름답 ['EFN']  \n",
      "오로라 ['JX-SO']  자연현상 ['JKP']  \n",
      "문제 ['JX-SO']  길 ['JKP']  \n",
      "꽃게 ['JX-SO']  맛있 ['EFN', 'V']  \n",
      "내게 ['JX-SO']  말하 ['EFO']  마 ['EFO']  \n",
      "참게 ['JX-SO']  맛있 ['EFN', 'V']  \n",
      "지금 ['JX-SO']  인심 ['JKS']  후하 ['ETM']  시대 ['JKS']  아 ['EFN']  \n",
      "후하 ['ETM']  시대 []  사람 ['JKP']  \n"
     ]
    }
   ],
   "source": [
    "words_array, tags_array = pycor.trimfile(data_dir+\"/02_ambiguous.txt\")\n",
    "\n",
    "for row in range(len(words_array)):\n",
    "    words = words_array[row]\n",
    "    tags = tags_array[row]\n",
    "    \n",
    "    for col in range(len(words)):\n",
    "        print(words[col], tags[col], end=\"  \") \n",
    "    \n",
    "    print()"
   ]
  },
  {
   "cell_type": "code",
   "execution_count": 7,
   "metadata": {},
   "outputs": [
    {
     "name": "stdout",
     "output_type": "stream",
     "text": [
      "RNN이 시퀀스 모델링에 적합한 다른 요인은 매우 긴 문장 단락 심지어 문서를 포함해 다양한 텍스트 길이를 모델링할 수 있는 능력이다 . \n",
      "CNN과 달리 RNN은 무제한 컨텍스트를 포착할 수 있는 유연한 계산 step을 가진다 . \n",
      "임의의 길이의 입력값을 처리할 수 있는 이러한 능력은 RNN을 사용하는 주요 연구의 셀링포인트 가운데 하나가 됐다 . \n",
      "\n",
      "다수의 NLP 태스크는 또한 전체 문장에 대해 의미론적 모델링을 요구한다 . \n",
      "이것은 고정된 차원의 하이퍼스페이스 내에 문장의 요지 gist 를 만들어내는 것과 관련이 있다 . \n",
      "이들 인스턴스는 RNN에 의해 적절히 포착된다 . \n",
      "전체 문장이 고정된 벡터로 요약되고 나서 가변 길이의 타겟 시퀀스로 매핑되는 기계번역같은 작업에 RNN 사용이 증가했다 . \n",
      "\n",
      "RNN은 또한 시간 분산 조인트 처리 time distributed joint processing 를 위한 네트워크 지원을 제공한다 . \n",
      "품사태깅같은 시퀀스 레이블링 작업의 대부분은 이러한 domain에 기반한 것이다 . \n",
      "보다 구체적인 사용사례는 문서분류 다범주 텍스트 범주화 멀티모달 감성분석 주관성 디텍션 등이 있다 . \n",
      "\n",
      "이미 서술한 사실들은 연구자들이 RNN을 선택하는 동기가 되는 몇가지 이유다 . \n",
      "그러나 RNN이 다른 네트워크보다 우월하다고 결론을 내리는 것은 잘못된 것이다 . \n",
      "최근에 여러 연구는 CNN이 RNN보다 우월하다는 증거를 제시한다 . \n",
      "언어모델링 Langurage modeling 같은 RNN에 적합한 태스크일지라도 CNN은 RNN보다 경쟁력 있는 성능을 달성했다 . \n",
      "CNN과 RNN은 문장을 모델링할 때 다른 목적 함수 를 갖는다 . \n",
      "RNN이 경계없는 긴 문장을 생성하려고 하는 반면 CNN은 가장 중요한 n-gram을 추출하려고 한다 . \n",
      "둘다 n-gram 피처를 잡아내는 데 효율적이지만 단어 순서에 대한 민감도가 지역적으로 locally 제한되며 장기 long-term 의존성은 보통 무시된다 . \n",
      "\n",
      "\n",
      "\n",
      "경제학 經濟學 은 재화나 용역의 생산과 분배 그리고 소비와 같은 경제현상을 연구하는 사회과학의 한 분야이다 . \n",
      "economics 라는 용어는 고대 그리스어 οἰκονομία에서 유래한다 . \n",
      "경제학은 복잡한 경제 활동에서 특정한 규칙성을 발견하여 경제 현상의 원인과 결과를 탐구하고 예측하는 것을 목표로 한다 . \n",
      "이를 위해 경제학자들은 다양한 전제와 분석 대상을 설정한다 . \n",
      "그중에서도 현대 경제학에서의 주요 연구 대상은 세계의 경제 상태 개개인과 기업이 노동 소비 투자 고용 가격 등을 어떻게 결정하는 지에 대한 것이다 . \n",
      "또한 경기의 침체와 호황 개인이나 국가간에 나타나는 부의 불균형과 같은 것들도 경제학의 주요 관심 분야이다 . \n",
      "정치경제학의 한 영역으로 시작하였다 . \n",
      "\n",
      "기본적으로 경제학은 매우 거시적이고 광범위한 분야를 다루기 때문에 다른 외적 조건이 동일하다면 ceteris paribus 이라는 전제 하에서 모든 분석이 진행된다 . \n",
      "마르크스 경제학에서는 이러한 배제를 추상 abstract 이라 부른다 . \n",
      "그러나 경제학자마다 분석 대상과 전제가 다르기 때문에 그들이 주목하거나 과감히 배제해버리는 부분은 모두 각각 다르다 . \n",
      "이러한 전제와 분석대상의 차이로부터 각 경제학파들의 차이가 생겨난다 . \n",
      "이중 몇몇 유명한 경제학자들이 탐구의 대상으로 삼았던 문제들을 열거해 보면 다음과 같다 . \n",
      "국부의 성격과 원천 애덤 스미스 대지에서 수확되는 생산물의 분배를 규율하는 법칙 리카도 삶의 일상사에서 인간이 하는 행동 데번포트 이런저런 용도로 사용될 수 있는 희소한 수단과 목적사이의 관계와 관련된 인간의 행동 로빈슨 유효수요의 결정 요인 분석과 국민소득수준과 고용량 케인스 근대사회의 움직임에 관한 경제적 법칙을 규명하는 것 마르크스 \n",
      "경제학의 학파에는 고전학파 케인즈주의 제도학파 통화주의 신고전파 행동경제학 신제도주의등이 있다 . \n",
      "비주류 경제학으로는 대표적으로 포스트케인지언이 있으며 그 이외에도 신경경제학 등이 있다 . \n",
      "실증경제학은 무엇인가 를 연구하는 반면 규범경제학은 무엇이 되어야 하는가 를 연구한다 . \n"
     ]
    }
   ],
   "source": [
    "_,words_array = pycor.readfile(data_dir+\"/01_sampletext.txt\")\n",
    "\n",
    "for sentence in words_array:\n",
    "    for word in sentence:\n",
    "        print(word.text, end=\" \")\n",
    "    print() "
   ]
  },
  {
   "cell_type": "code",
   "execution_count": 8,
   "metadata": {},
   "outputs": [
    {
     "name": "stdout",
     "output_type": "stream",
     "text": [
      "['RNN', '시퀀스', '모델링', '적합하', '요인', '매우', '긴', '문장', '단락', '심지', '문서', '포함하', '다양하', '텍스트', '길이', '모델링하', '있', '능력']\n",
      "['CNN', '달리', 'RNN', '무제하', '컨텍스트', '포착하', '있', '유연하', '계산', 'STEP', '가지']\n",
      "['임의', '길이', '입력값', '처리하', '있', '능력', 'RNN', '사용하', '주요', '연구', '셀링포인트', '가운데', '하나', '되']\n",
      "['다수', 'NLP', '태스크', '또한', '전체', '문장', '의미론적', '모델링', '요구하']\n",
      "['이것', '고정되', '차원', '하이퍼스페이스', '내', '문장', '요', 'GIST', '만들어내', '관련', '있']\n",
      "['인스턴스', 'RNN', '적절히', '포착되']\n",
      "['전체', '문장', '고정되', '벡터', '요약되', '나서', '가변', '길이', '타겟', '시퀀스', '매핑되', '기계번역', '작업', 'RNN', '사용', '증가하']\n",
      "['RNN', '또한', '시간', '분산', '조인트', '처리', 'TIME', 'DISTRIBUTED', 'JOINT', 'PROCESSING', '네트워크', '지원', '제공하']\n",
      "['품사태깅', '시퀀스', '레이블링', '작업', '대부분', 'DOMAIN', '기반하']\n",
      "['보', '구체적', '사용사례', '문서분류', '다범주', '텍스트', '범주화', '멀티모달', '감성분석', '주관성', '디텍션', '등', '있']\n",
      "['이미', '서술하', '사실들', '연구자들', 'RNN', '선택하', '동기', '되', '이유']\n",
      "['그러나', 'RNN', '네트워크', '우월하', '결론', '내리', '잘못되']\n",
      "['최근', '여', '연구', 'CNN', 'RNN', '우월하', '증거', '제시하']\n",
      "['언어모델링', 'LANGURAGE', 'MODELING', 'RNN', '적합하', '태스크이', 'CNN', 'RNN', '경쟁력', '있', '성능', '달성하']\n",
      "['CNN', 'RNN', '문장', '모델링하', '목적', '함수', '갖']\n",
      "['RNN', '경계없', '긴', '문장', '생성하', '하', '반면', 'CNN', '가장', '중요하', 'N-GRAM', '추출하', '한']\n",
      "['둘', 'N-GRAM', '피처', '잡아내', '데', '효율적', '단어', '순서', '민감도', '지역적', 'LOCALLY', '제한되', '장기', 'LONG-TERM', '의존성', '보통', '무시되']\n",
      "['경제학', '經濟學', '재화', '용역', '생산', '분배', '그리고', '소비', '경제현상', '연구하', '사회과학', '한', '분야']\n",
      "['ECONOMICS', '용어', '고대', '그리스어', 'ΟἸΚΟΝΟΜΊΑ', '유래하']\n",
      "['경제학', '복잡하', '경제', '활동', '특정하', '규칙성', '발견하', '경제', '현상', '원인', '결과', '탐구', '예측하', '목표', '한']\n",
      "['경제학자들', '다양하', '전제', '분석', '대상', '설정하']\n",
      "['그중', '현대', '경제학', '주요', '연구', '대상', '세계', '경제', '상태', '개개인', '기업', '노동', '소비', '투자', '고용', '가격', '등', '어떻', '결정하', '지']\n",
      "['또한', '경기', '침체', '호황', '개인', '국가간', '나타나', '부', '불균형', '것들', '경제학', '주요', '관심', '분야']\n",
      "['정치경제학', '한', '영역', '시작하']\n",
      "['기본적', '경제학', '매우', '거시적', '광범위하', '분야', '다루', '때문', '외적', '조건', '동일하', 'CETERIS', 'PARIBUS', '전제', '하', '분석', '진행되']\n",
      "['마르크스', '경제학', '배제', '추상', 'ABSTRACT', '이라', '부르']\n",
      "['그러나', '경제학자', '분석', '대상', '전제', '다르', '때문', '그들', '주목하', '과감히', '배제해버리', '부분', '모두', '각각', '다르']\n",
      "['전제', '분석대상', '차이', '각', '경제학파들', '차이', '생겨나']\n",
      "['이중', '몇몇', '유명하', '경제학자들', '탐구', '대상', '삼', '문제들', '열거하', '보', '다음', '같']\n",
      "['국부', '성격', '원천', '애덤', '스미스', '대지', '수확되', '생산물', '분배', '규율하', '법칙', '리카', '삶', '일상사', '인간', '하', '행동', '데번포트', '이런저런', '용도', '사용되', '있', '희소하', '수단', '목적사이', '관계', '관련되', '인간', '행동', '로빈슨', '유효수요', '결정', '요', '분석', '국민소득수준', '고용량', '케인스', '근대사회', '움직임', '경제적', '법칙', '규명하', '마르크스']\n",
      "['경제학', '학파', '고전학파', '케인즈주의', '제도학파', '통화주의', '신고전파', '행동경제학', '신제도주의등', '있']\n",
      "['비주류', '경제학', '대표적', '포스트케인지언', '있', '이외', '신경경제학', '등', '있']\n",
      "['실증경제학', '무엇인가', '연구하', '반면', '규범경제학', '무엇', '되어', '하', '연구하']\n"
     ]
    }
   ],
   "source": [
    "words_array, tags_array = pycor.trimfile(data_dir+\"/01_sampletext.txt\")\n",
    "\n",
    "for words in words_array:\n",
    "    print(words) \n",
    "    "
   ]
  },
  {
   "cell_type": "code",
   "execution_count": 9,
   "metadata": {},
   "outputs": [
    {
     "name": "stdout",
     "output_type": "stream",
     "text": [
      "readtext >>>>> \n",
      "RNN이 시퀀스 모델링에 적합한 다른 요인은 매우 긴 문장 단락 심지어 문서를 포함해 다양한 텍스트 길이를 모델링할 수 있는 능력이다 . \n",
      "CNN과 달리 RNN은 무제한 컨텍스트를 포착할 수 있는 유연한 계산 step을 가진다 . \n",
      "임의의 길이의 입력값을 처리할 수 있는 이러한 능력은 RNN을 사용하는 주요 연구의 셀링포인트 가운데 하나가 됐다 . \n",
      "다수의 NLP 태스크는 또한 전체 문장에 대해 의미론적 모델링을 요구한다 . \n",
      "이것은 고정된 차원의 하이퍼스페이스 내에 문장의 요지 gist 를 만들어내는 것과 관련이 있다 . \n",
      "이들 인스턴스는 RNN에 의해 적절히 포착된다 . \n",
      "전체 문장이 고정된 벡터로 요약되고 나서 가변 길이의 타겟 시퀀스로 매핑되는 기계번역같은 작업에 RNN 사용이 증가했다 . \n",
      "RNN은 또한 시간 분산 조인트 처리 time distributed joint processing 를 위한 네트워크 지원을 제공한다 . \n",
      "품사태깅같은 시퀀스 레이블링 작업의 대부분은 이러한 domain에 기반한 것이다 . \n",
      "보다 구체적인 사용사례는 문서분류 다범주 텍스트 범주화 멀티모달 감성분석 주관성 디텍션 등이 있다 . \n",
      "이미 서술한 사실들은 연구자들이 RNN을 선택하는 동기가 되는 몇가지 이유다 . \n",
      "그러나 RNN이 다른 네트워크보다 우월하다고 결론을 내리는 것은 잘못된 것이다 . \n",
      "최근에 여러 연구는 CNN이 RNN보다 우월하다는 증거를 제시한다 . \n",
      "언어모델링 Langurage modeling 같은 RNN에 적합한 태스크일지라도 CNN은 RNN보다 경쟁력 있는 성능을 달성했다 . \n",
      "CNN과 RNN은 문장을 모델링할 때 다른 목적 함수 를 갖는다 . \n",
      "RNN이 경계없는 긴 문장을 생성하려고 하는 반면 CNN은 가장 중요한 n-gram을 추출하려고 한다 . \n",
      "둘다 n-gram 피처를 잡아내는 데 효율적이지만 단어 순서에 대한 민감도가 지역적으로 locally 제한되며 장기 long-term 의존성은 보통 무시된다 . \n",
      "경제학 經濟學 은 재화나 용역의 생산과 분배 그리고 소비와 같은 경제현상을 연구하는 사회과학의 한 분야이다 . \n",
      "economics 라는 용어는 고대 그리스어 οἰκονομία에서 유래한다 . \n",
      "경제학은 복잡한 경제 활동에서 특정한 규칙성을 발견하여 경제 현상의 원인과 결과를 탐구하고 예측하는 것을 목표로 한다 . \n",
      "이를 위해 경제학자들은 다양한 전제와 분석 대상을 설정한다 . \n",
      "그중에서도 현대 경제학에서의 주요 연구 대상은 세계의 경제 상태 개개인과 기업이 노동 소비 투자 고용 가격 등을 어떻게 결정하는 지에 대한 것이다 . \n",
      "또한 경기의 침체와 호황 개인이나 국가간에 나타나는 부의 불균형과 같은 것들도 경제학의 주요 관심 분야이다 . \n",
      "정치경제학의 한 영역으로 시작하였다 . \n",
      "기본적으로 경제학은 매우 거시적이고 광범위한 분야를 다루기 때문에 다른 외적 조건이 동일하다면 ceteris paribus 이라는 전제 하에서 모든 분석이 진행된다 . \n",
      "마르크스 경제학에서는 이러한 배제를 추상 abstract 이라 부른다 . \n",
      "그러나 경제학자마다 분석 대상과 전제가 다르기 때문에 그들이 주목하거나 과감히 배제해버리는 부분은 모두 각각 다르다 . \n",
      "이러한 전제와 분석대상의 차이로부터 각 경제학파들의 차이가 생겨난다 . \n",
      "이중 몇몇 유명한 경제학자들이 탐구의 대상으로 삼았던 문제들을 열거해 보면 다음과 같다 . \n",
      "국부의 성격과 원천 애덤 스미스 대지에서 수확되는 생산물의 분배를 규율하는 법칙 리카도 삶의 일상사에서 인간이 하는 행동 데번포트 이런저런 용도로 사용될 수 있는 희소한 수단과 목적사이의 관계와 관련된 인간의 행동 로빈슨 유효수요의 결정 요인 분석과 국민소득수준과 고용량 케인스 근대사회의 움직임에 관한 경제적 법칙을 규명하는 것 마르크스 \n",
      "경제학의 학파에는 고전학파 케인즈주의 제도학파 통화주의 신고전파 행동경제학 신제도주의등이 있다 . \n",
      "비주류 경제학으로는 대표적으로 포스트케인지언이 있으며 그 이외에도 신경경제학 등이 있다 . \n",
      "실증경제학은 무엇인가 를 연구하는 반면 규범경제학은 무엇이 되어야 하는가 를 연구한다 . \n",
      "\n",
      "\n",
      "trim >>>>> \n",
      "RNN,시퀀스,모델링,적합하,요인,매우,긴,문장,단락,심지,문서,포함하,다양하,텍스트,길이,모델링하,있,능력,\n",
      "CNN,달리,RNN,무제하,컨텍스트,포착하,있,유연하,계산,STEP,가지,\n",
      "임의,길이,입력값,처리하,있,능력,RNN,사용하,주요,연구,셀링포인트,가운데,하나,되,\n",
      "다수,NLP,태스크,또한,전체,문장,의미론적,모델링,요구하,\n",
      "이것,고정되,차원,하이퍼스페이스,내,문장,요,GIST,만들어내,관련,있,\n",
      "인스턴스,RNN,적절히,포착되,\n",
      "전체,문장,고정되,벡터,요약되,나서,가변,길이,타겟,시퀀스,매핑되,기계번역,작업,RNN,사용,증가하,\n",
      "RNN,또한,시간,분산,조인트,처리,TIME,DISTRIBUTED,JOINT,PROCESSING,네트워크,지원,제공하,\n",
      "품사태깅,시퀀스,레이블링,작업,대부분,DOMAIN,기반하,\n",
      "보,구체적,사용사례,문서분류,다범주,텍스트,범주화,멀티모달,감성분석,주관성,디텍션,등,있,\n",
      "이미,서술하,사실들,연구자들,RNN,선택하,동기,되,이유,\n",
      "그러나,RNN,네트워크,우월하,결론,내리,잘못되,\n",
      "최근,여,연구,CNN,RNN,우월하,증거,제시하,\n",
      "언어모델링,LANGURAGE,MODELING,RNN,적합하,태스크이,CNN,RNN,경쟁력,있,성능,달성하,\n",
      "CNN,RNN,문장,모델링하,목적,함수,갖,\n",
      "RNN,경계없,긴,문장,생성하,하,반면,CNN,가장,중요하,N-GRAM,추출하,한,\n",
      "둘,N-GRAM,피처,잡아내,데,효율적,단어,순서,민감도,지역적,LOCALLY,제한되,장기,LONG-TERM,의존성,보통,무시되,\n",
      "경제학,經濟學,재화,용역,생산,분배,그리고,소비,경제현상,연구하,사회과학,한,분야,\n",
      "ECONOMICS,용어,고대,그리스어,ΟἸΚΟΝΟΜΊΑ,유래하,\n",
      "경제학,복잡하,경제,활동,특정하,규칙성,발견하,경제,현상,원인,결과,탐구,예측하,목표,한,\n",
      "경제학자들,다양하,전제,분석,대상,설정하,\n",
      "그중,현대,경제학,주요,연구,대상,세계,경제,상태,개개인,기업,노동,소비,투자,고용,가격,등,어떻,결정하,지,\n",
      "또한,경기,침체,호황,개인,국가간,나타나,부,불균형,것들,경제학,주요,관심,분야,\n",
      "정치경제학,한,영역,시작하,\n",
      "기본적,경제학,매우,거시적,광범위하,분야,다루,때문,외적,조건,동일하,CETERIS,PARIBUS,전제,하,분석,진행되,\n",
      "마르크스,경제학,배제,추상,ABSTRACT,이라,부르,\n",
      "그러나,경제학자,분석,대상,전제,다르,때문,그들,주목하,과감히,배제해버리,부분,모두,각각,다르,\n",
      "전제,분석대상,차이,각,경제학파들,차이,생겨나,\n",
      "이중,몇몇,유명하,경제학자들,탐구,대상,삼,문제들,열거하,보,다음,같,\n",
      "국부,성격,원천,애덤,스미스,대지,수확되,생산물,분배,규율하,법칙,리카,삶,일상사,인간,하,행동,데번포트,이런저런,용도,사용되,있,희소하,수단,목적사이,관계,관련되,인간,행동,로빈슨,유효수요,결정,요,분석,국민소득수준,고용량,케인스,근대사회,움직임,경제적,법칙,규명하,마르크스,\n",
      "경제학,학파,고전학파,케인즈주의,제도학파,통화주의,신고전파,행동경제학,신제도주의등,있,\n",
      "비주류,경제학,대표적,포스트케인지언,있,이외,신경경제학,등,있,\n",
      "실증경제학,무엇인가,연구하,반면,규범경제학,무엇,되어,하,연구하,\n",
      "['ETA'],[],['JKB-TO'],['ETM'],['JX-SO'],[],[],[],[],['EC-by'],['JKO'],[],['ETM'],[],['ETM'],['ETM'],['ETM', 'V'],['JKP'],\n",
      "['JKB-WZ'],[],['ETM'],['ETM'],['JKO'],['ETM'],['ETM', 'V'],['ETM'],[],['JKO'],['EFN'],\n",
      "['JKG'],['JKG'],['JKO'],['ETM'],['ETM', 'V'],['JX-SO'],['ETM'],['JX-SO'],[],['JKG'],[],[],['JKS'],['EFN', 'EPT-pp'],\n",
      "['JKG'],[],['JX-SO'],['MAJ'],[],['JKB-TO'],[],['JKO'],['EFN'],\n",
      "['JX-SO'],['ETM'],['JKG'],[],['JKB-TO'],['JKG'],['EFO'],[],['JX-SO'],['JKS'],['EFN', 'V'],\n",
      "['JX-SO'],['JKB-TO'],[],['EFN'],\n",
      "[],['JKS'],['ETM'],['JKB-TT|AS|BY'],['EC-and'],[],[],['JKG'],[],['JKB-TT|AS|BY'],['JX-SO'],['JKG-as'],['JKB-TO'],[],['JKS'],['EFN', 'EPT-pp'],\n",
      "['ETM'],['MAJ'],[],[],[],[],[],[],[],[],[],['JKO'],['EFN'],\n",
      "['JKG-as'],[],[],['JKG'],['JX-SO'],['JKB-TO'],['ETM'],\n",
      "['EFN'],['ETM+JKP', 'MM'],['JX-SO'],[],[],[],[],[],[],[],[],['ETA'],['EFN', 'V'],\n",
      "['MAG'],['ETM'],['JX-SO'],['JKS'],['ETM'],['JX-SO'],['JKS'],['ETM'],['EFN'],\n",
      "['MAJ'],['ETA'],['JKB-CM'],['EC-and', 'EFN'],['JKO'],['JX-SO'],['ETM'],\n",
      "['JKB-TO'],['EC-for'],['JX-SO'],['JKS'],['JKB-CM'],['ETM', 'EFN'],['JKO'],['EFN'],\n",
      "[],[],[],['JKB-TO'],['ETM'],['EC-evenif', 'EC-evenif'],['JX-SO'],['JKB-CM'],[],['ETM', 'V'],['JKO'],['EFN', 'EPT-pp'],\n",
      "['JKB-WZ'],['ETM'],['JKO'],['ETM'],[],[],['EFN', 'EPT-pr'],\n",
      "['ETA'],['ETM', 'V'],[],['JKO'],['EC-for'],['ETM'],[],['JX-SO'],['MAG'],['ETM'],['JKO'],['EC-for'],['EFN'],\n",
      "['EFN'],[],['JKO'],['JX-SO'],[],['EC-but', 'JKP', 'MM'],[],['JKB-TO'],['JKS'],['JKB-TT|AS|BY', 'MM'],[],['EC-and'],[],[],['JX-SO'],[],['EFN'],\n",
      "[],[],['EC-but'],['JKG'],['JKB-WZ'],[],['MAJ'],['JKB-WZ'],['JKO'],['ETM'],['JKG'],[],['JKP'],\n",
      "[],['JX-SO'],[],[],['JKB-FM'],['EFN'],\n",
      "['JX-SO'],['ETM'],[],['JKB-FM'],['ETM'],['JKO'],['JKV'],[],['JKG'],['JKB-WZ'],['JKO'],['JC'],['JX-SO'],['JKB-TT|AS|BY'],['EFN'],\n",
      "['JX-SO'],['ETM'],['JKB-WZ'],[],['JKO'],['EFN'],\n",
      "['JX-SO', 'JKB-FM'],[],['JKG', 'JKB-FM'],[],[],['JX-SO'],['JKG'],[],[],['JKB-WZ'],['ETA'],[],[],[],[],[],['ETM'],['EC-for'],['JX-SO'],['JKB-TO'],\n",
      "['MAJ'],['JKG'],['JKB-WZ'],[],['JX', 'JKP'],['JKB-TO'],['JX-SO'],['JKG'],['JKB-WZ'],['JX-SO'],['JKG'],[],[],['JKP'],\n",
      "['JKG'],[],['JKB-TT|AS|BY'],['EFN', 'EPT-pp'],\n",
      "['JKB-TT|AS|BY', 'MM'],['JX-SO'],[],['EC-and', 'JKP', 'MM'],['ETM'],['JKO'],['ETN'],['JKB-TO'],[],['JKS'],['EC-incase', 'EFN'],[],[],[],['JKS'],['JKS'],['EFN'],\n",
      "[],['JX-SO', 'JKB-FM'],['JKO'],[],[],[],['EFN'],\n",
      "['MAJ'],['JX'],[],['JKB-WZ'],['JKS'],['ETN'],['JKB-TO'],['JKS'],['EC-or'],[],['JX-SO'],['JX-SO'],[],['MAG'],['EFN'],\n",
      "['JKB-WZ'],['JKG'],['JX-from', 'JX-from'],[],['JKG'],['JKS'],['EFN'],\n",
      "[],[],['ETM'],['JKS'],['JKG'],['JKB-TT|AS|BY'],['EPT-pp', 'EPT-pp'],['JKO'],[],['EC-incase'],['JKB-WZ'],['EFN'],\n",
      "['JKG'],['JKB-WZ'],[],[],[],['JKB-FM'],['JX-SO'],['JKG'],['JKO'],['JX-SO'],[],['JX-SO'],['JKG'],['JKB-FM'],['JKS'],['ETM'],[],[],[],['JKB-TT|AS|BY'],['ETM'],['ETM', 'V'],['ETM'],['JKB-WZ'],['JKG'],['JKB-WZ'],['ETM'],['JKG'],[],[],['JKG'],[],['ETM+JKP'],['JKB-WZ'],['JKB-WZ'],[],[],['JKG'],['JKB-TO'],[],['JKO'],['JX-SO'],[],\n",
      "['JKG'],['JX-SO', 'JKB-TO'],[],['ISM'],[],['ISM'],[],[],['JKS'],['EFN', 'V'],\n",
      "[],['JX-SO', 'JKB-TT|AS|BY'],['JKB-TT|AS|BY', 'MM'],['JKS'],['EC-and', 'V'],['JX-SO', 'JKB-AT'],[],['ETA'],['EFN', 'V'],\n",
      "['JX-SO'],[],['ETM'],[],['JX-SO'],['JKS'],['EC-incase'],['EPT-pr'],['EFN'],\n",
      "\n",
      "\n",
      " keywords >>>>> \n",
      "{RNN: 13, 문장: 6, CNN: 5, 경제학: 8}\n"
     ]
    }
   ],
   "source": [
    "text = ''\n",
    "\n",
    "with open(data_dir+\"/01_sampletext.txt\", 'r', encoding='utf-8') as file:\n",
    "    text = file.read()\n",
    "    file.close()\n",
    "\n",
    "print(\"readtext >>>>> \") \n",
    "\n",
    "_,words_array = pycor.readtext(text)\n",
    "\n",
    "for sentence in words_array:\n",
    "    for word in sentence:\n",
    "        print(word.text, end=\" \")\n",
    "    print() \n",
    "    \n",
    "print(\"\\n\\ntrim >>>>> \") \n",
    "simple_words_array, tags_array = pycor.trim(text)\n",
    "\n",
    "for sentence in simple_words_array:\n",
    "    for word in sentence:\n",
    "        print(word , end=\",\")\n",
    "    print() \n",
    "\n",
    "for tags in tags_array:\n",
    "    for tag in tags:\n",
    "        print(tag , end=\",\")\n",
    "    print() \n",
    "    \n",
    "print(\"\\n\\n keywords >>>>> \") \n",
    "keywords = pycor.keywords(words_array, 0.3)\n",
    "print(keywords)"
   ]
  },
  {
   "cell_type": "code",
   "execution_count": 10,
   "metadata": {},
   "outputs": [
    {
     "name": "stdout",
     "output_type": "stream",
     "text": [
      "\n",
      "\n",
      "keywords >>>>> \n",
      "{RNN: 13, 문장: 6, CNN: 5, 경제학: 8}\n",
      "\n",
      "sentences >>>>> \n",
      "RNN이 시퀀스 모델링에 적합한 다른 요인은 매우 긴 문장 단락 심지어 문서를 포함해 다양한 텍스트 길이를 모델링할 수 있는 능력이다 .\n",
      "CNN과 달리 RNN은 무제한 컨텍스트를 포착할 수 있는 유연한 계산 step을 가진다 .\n",
      "전체 문장이 고정된 벡터로 요약되고 나서 가변 길이의 타겟 시퀀스로 매핑되는 기계번역같은 작업에 RNN 사용이 증가했다 .\n",
      "최근에 여러 연구는 CNN이 RNN보다 우월하다는 증거를 제시한다 .\n",
      "언어모델링 Langurage modeling 같은 RNN에 적합한 태스크일지라도 CNN은 RNN보다 경쟁력 있는 성능을 달성했다 .\n"
     ]
    }
   ],
   "source": [
    "\n",
    "keywords, sentences = pycor.abstractKeywords(words_array, 0.3, 5)\n",
    "print(\"\\n\\nkeywords >>>>> \") \n",
    "print(keywords)\n",
    "print(\"\\nsentences >>>>> \") \n",
    "lines = pycor.totexts(sentences)\n",
    "for line in lines:\n",
    "    print(line)"
   ]
  },
  {
   "cell_type": "code",
   "execution_count": 11,
   "metadata": {},
   "outputs": [
    {
     "name": "stdout",
     "output_type": "stream",
     "text": [
      "\n",
      "\n",
      "keywords >>>>> \n",
      "{RNN: 13, 문장: 6, CNN: 5, 경제학: 8}\n",
      "\n",
      "sentences >>>>> \n",
      "RNN이 시퀀스 모델링에 적합한 다른 요인은 매우 긴 문장 단락 심지어 문서를 포함해 다양한 텍스트 길이를 모델링할 수 있는 능력이다 .\n",
      "CNN과 달리 RNN은 무제한 컨텍스트를 포착할 수 있는 유연한 계산 step을 가진다 .\n",
      "전체 문장이 고정된 벡터로 요약되고 나서 가변 길이의 타겟 시퀀스로 매핑되는 기계번역같은 작업에 RNN 사용이 증가했다 .\n",
      "최근에 여러 연구는 CNN이 RNN보다 우월하다는 증거를 제시한다 .\n",
      "언어모델링 Langurage modeling 같은 RNN에 적합한 태스크일지라도 CNN은 RNN보다 경쟁력 있는 성능을 달성했다 .\n"
     ]
    }
   ],
   "source": [
    "keywords, sentences = pycor.abstract(text, 0.3, 5)\n",
    "print(\"\\n\\nkeywords >>>>> \") \n",
    "print(keywords)\n",
    "print(\"\\nsentences >>>>> \") \n",
    "lines = pycor.totexts(sentences)\n",
    "for line in lines:\n",
    "    print(line)"
   ]
  },
  {
   "cell_type": "code",
   "execution_count": null,
   "metadata": {},
   "outputs": [],
   "source": []
  }
 ],
 "metadata": {
  "kernelspec": {
   "display_name": "Environment (conda_conda)",
   "language": "python",
   "name": "conda_conda"
  },
  "language_info": {
   "codemirror_mode": {
    "name": "ipython",
    "version": 3
   },
   "file_extension": ".py",
   "mimetype": "text/x-python",
   "name": "python",
   "nbconvert_exporter": "python",
   "pygments_lexer": "ipython3",
   "version": "3.6.5"
  }
 },
 "nbformat": 4,
 "nbformat_minor": 2
}
