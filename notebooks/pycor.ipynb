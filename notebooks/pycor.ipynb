{
 "cells": [
  {
   "cell_type": "code",
   "execution_count": null,
   "metadata": {},
   "outputs": [],
   "source": [
    "import sys\n",
    "sys.path.insert(0, '../')\n",
    "import pycor\n",
    "\n",
    "training_data_dir = \"../../data\"\n",
    "data_dir = \"../samples\"\n",
    "model_dir = \"../../output/model\"\n"
   ]
  },
  {
   "cell_type": "code",
   "execution_count": null,
   "metadata": {},
   "outputs": [],
   "source": [
    "pycor.setwordlimit(100000)\n",
    "\n",
    "pycor.train(training_data_dir, pattern=\"*.txt\", limit=1000)"
   ]
  },
  {
   "cell_type": "code",
   "execution_count": null,
   "metadata": {},
   "outputs": [],
   "source": [
    "pycor.savemodel(model_dir)"
   ]
  },
  {
   "cell_type": "code",
   "execution_count": null,
   "metadata": {},
   "outputs": [],
   "source": [
    "pycor.loadmodel(model_dir)"
   ]
  },
  {
   "cell_type": "code",
   "execution_count": null,
   "metadata": {},
   "outputs": [],
   "source": [
    "_,words_array = pycor.readfile(data_dir+\"/01_sampletext.txt\")\n",
    "\n",
    "for sentence in words_array:\n",
    "    for word in sentence:\n",
    "        print(word.text, end=\" \")\n",
    "    print() "
   ]
  },
  {
   "cell_type": "code",
   "execution_count": null,
   "metadata": {},
   "outputs": [],
   "source": [
    "words_array, tags_array = pycor.trimfile(data_dir+\"/01_sampletext.txt\")\n",
    "\n",
    "for words in words_array:\n",
    "    print(words) \n",
    "    "
   ]
  },
  {
   "cell_type": "code",
   "execution_count": null,
   "metadata": {},
   "outputs": [],
   "source": [
    "text = ''\n",
    "\n",
    "with open(data_dir+\"/01_sampletext.txt\", 'r', encoding='utf-8') as file:\n",
    "    text = file.read()\n",
    "    file.close()\n",
    "\n",
    "print(\"readtext >>>>> \") \n",
    "\n",
    "_,words_array = pycor.readtext(text)\n",
    "\n",
    "for sentence in words_array:\n",
    "    for word in sentence:\n",
    "        print(word.text, end=\" \")\n",
    "    print() \n",
    "    \n",
    "print(\"\\n\\ntrim >>>>> \") \n",
    "simple_words_array, tags_array = pycor.trim(text)\n",
    "\n",
    "for sentence in simple_words_array:\n",
    "    for word in sentence:\n",
    "        print(word , end=\",\")\n",
    "    print() \n",
    "\n",
    "for tags in tags_array:\n",
    "    for tag in tags:\n",
    "        print(tag , end=\",\")\n",
    "    print() \n",
    "    \n",
    "print(\"\\n\\n keywords >>>>> \") \n",
    "keywords = pycor.keywords(words_array, 0.3)\n",
    "print(keywords)"
   ]
  },
  {
   "cell_type": "code",
   "execution_count": null,
   "metadata": {},
   "outputs": [],
   "source": [
    "\n",
    "keywords, sentences = pycor.abstract(words_array, 0.5, 8)\n",
    "print(\"\\n\\nkeywords >>>>> \") \n",
    "print(keywords)\n",
    "print(\"\\nsentences >>>>> \") \n",
    "pycor.printSentences(sentences)"
   ]
  },
  {
   "cell_type": "code",
   "execution_count": null,
   "metadata": {},
   "outputs": [],
   "source": []
  }
 ],
 "metadata": {
  "kernelspec": {
   "display_name": "Environment (conda_conda)",
   "language": "python",
   "name": "conda_conda"
  },
  "language_info": {
   "codemirror_mode": {
    "name": "ipython",
    "version": 3
   },
   "file_extension": ".py",
   "mimetype": "text/x-python",
   "name": "python",
   "nbconvert_exporter": "python",
   "pygments_lexer": "ipython3",
   "version": "3.6.5"
  }
 },
 "nbformat": 4,
 "nbformat_minor": 2
}
