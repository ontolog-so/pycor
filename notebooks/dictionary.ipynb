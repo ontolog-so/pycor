{
 "cells": [
  {
   "cell_type": "code",
   "execution_count": 1,
   "metadata": {},
   "outputs": [
    {
     "name": "stdout",
     "output_type": "stream",
     "text": [
      "Init Trainer\n",
      "Init DocResolver\n"
     ]
    }
   ],
   "source": [
    "import sys\n",
    "import time\n",
    "sys.path.insert(0, '../')\n",
    "import pycor.dictionary as dic\n",
    "from pycor import utils, parser"
   ]
  },
  {
   "cell_type": "code",
   "execution_count": 2,
   "metadata": {},
   "outputs": [
    {
     "name": "stdout",
     "output_type": "stream",
     "text": [
      "3690\n",
      ". >  0\n",
      ".................................................................................................... >  100\n",
      ".................................................................................................... >  200\n",
      "...................................................................................................\n",
      "Read Files. Ellapsed time: 2.9538631439208984\n",
      "Build WordMap. Ellapsed time: 2.590980052947998\n",
      "  Words Count: 35852\n",
      "  Heads Count: 33889\n",
      "  Tails Count: 482\n",
      "Save  ../../output/model2/model.csv   소요시간: 0.283\n",
      "Save  ../../output/model2/tails.csv   소요시간: 0.008\n",
      "Save  ../../output/model2/collocations.csv   소요시간: 0.004\n",
      "Save Dic ../../output/model2/dictionary.csv   소요시간: 0.117\n",
      "Rebuild WordMap. Ellapsed time: 2.114774227142334\n",
      "  Words Count: 35852\n",
      "  Heads Count: 33889\n",
      "  Tails Count: 482\n",
      "Save  ../../output/model3/model.csv   소요시간: 0.314\n",
      "Save  ../../output/model3/tails.csv   소요시간: 0.01\n",
      "Save  ../../output/model3/collocations.csv   소요시간: 0.003\n",
      "Save Dic ../../output/model3/dictionary.csv   소요시간: 0.129\n",
      "Ellapsed time: 8.55814504623413\n"
     ]
    }
   ],
   "source": [
    "filelist = utils.listfiles(\"../samples\",pattern=\"*.txt\")\n",
    "filelist.extend(utils.listfiles(\"../../data\",pattern=\"*.txt\"))\n",
    "\n",
    "print(len(filelist))\n",
    "\n",
    "startTime = time.time()\n",
    "\n",
    "tree = dic.readfiles(filelist, limit=300)\n",
    "\n",
    "wordmap = dic.buildwordmap(tree.root)\n",
    "wordmap.save(\"../../output/model2\")\n",
    "\n",
    "dic.rebuildwordmap(wordmap)\n",
    "\n",
    "wordmap.save(\"../../output/model3\")\n",
    "\n",
    "endTime = time.time()\n",
    "print(\"Ellapsed time:\", (endTime - startTime))\n",
    "\n"
   ]
  }
 ],
 "metadata": {
  "kernelspec": {
   "display_name": "Python 3",
   "language": "python",
   "name": "python3"
  },
  "language_info": {
   "codemirror_mode": {
    "name": "ipython",
    "version": 3
   },
   "file_extension": ".py",
   "mimetype": "text/x-python",
   "name": "python",
   "nbconvert_exporter": "python",
   "pygments_lexer": "ipython3",
   "version": "3.5.2"
  }
 },
 "nbformat": 4,
 "nbformat_minor": 2
}
