{
 "cells": [
  {
   "cell_type": "code",
   "execution_count": 1,
   "metadata": {},
   "outputs": [
    {
     "name": "stdout",
     "output_type": "stream",
     "text": [
      "Init Trainer\n",
      "Init DocResolver\n"
     ]
    }
   ],
   "source": [
    "import sys\n",
    "import time\n",
    "sys.path.insert(0, '../')\n",
    "import pycor.dictionary as dic\n",
    "from pycor import utils"
   ]
  },
  {
   "cell_type": "code",
   "execution_count": 2,
   "metadata": {},
   "outputs": [
    {
     "name": "stdout",
     "output_type": "stream",
     "text": [
      "1691\n",
      ". >  0\n",
      ".......................................\n",
      "Files loaded. Ellapsed time: 0.5438714027404785\n",
      "WordMap built. Ellapsed time: 1.4405527114868164\n",
      "Words Count: 15544\n",
      "Heads Count: 10596\n",
      "Tails Count: 342\n",
      "Ellapsed time: 1.4416828155517578\n",
      "Save  ../../output/model2/model.csv   소요시간: 0.075\n",
      "Save  ../../output/model2/tails.csv   소요시간: 0.007\n",
      "Save  ../../output/model2/collocations.csv   소요시간: 0.004\n",
      "Save Dic ../../output/model2/dictionary.csv   소요시간: 0.045\n",
      "Clear Heads: 4998 remains.\n",
      "Ellapsed time: 1.5852570533752441\n"
     ]
    }
   ],
   "source": [
    "filelist = utils.listfiles(\"../samples\",pattern=\"*.txt\")\n",
    "filelist.extend(utils.listfiles(\"../../data\",pattern=\"*.txt\"))\n",
    "\n",
    "print(len(filelist))\n",
    "\n",
    "startTime = time.time()\n",
    "\n",
    "wordmap = dic.readfiles(filelist, limit=40)\n",
    "\n",
    "wordmap.save(\"../../output/model2\")\n",
    "endTime = time.time()\n",
    "print(\"Ellapsed time:\", (endTime - startTime))"
   ]
  },
  {
   "cell_type": "code",
   "execution_count": null,
   "metadata": {},
   "outputs": [],
   "source": []
  },
  {
   "cell_type": "code",
   "execution_count": null,
   "metadata": {},
   "outputs": [],
   "source": []
  },
  {
   "cell_type": "code",
   "execution_count": null,
   "metadata": {},
   "outputs": [],
   "source": []
  },
  {
   "cell_type": "code",
   "execution_count": null,
   "metadata": {},
   "outputs": [],
   "source": []
  }
 ],
 "metadata": {
  "kernelspec": {
   "display_name": "Python 3",
   "language": "python",
   "name": "python3"
  },
  "language_info": {
   "codemirror_mode": {
    "name": "ipython",
    "version": 3
   },
   "file_extension": ".py",
   "mimetype": "text/x-python",
   "name": "python",
   "nbconvert_exporter": "python",
   "pygments_lexer": "ipython3",
   "version": "3.5.2"
  }
 },
 "nbformat": 4,
 "nbformat_minor": 2
}
