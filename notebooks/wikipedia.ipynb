{
 "cells": [
  {
   "cell_type": "code",
   "execution_count": 1,
   "metadata": {},
   "outputs": [
    {
     "name": "stdout",
     "output_type": "stream",
     "text": [
      "Requirement already up-to-date: pip in /opt/conda/lib/python3.6/site-packages (18.0)\n",
      "Requirement already satisfied: beautifulsoup4 in /opt/conda/lib/python3.6/site-packages (4.6.0)\n"
     ]
    }
   ],
   "source": [
    "!pip install --upgrade pip\n",
    "!pip install beautifulsoup4"
   ]
  },
  {
   "cell_type": "markdown",
   "metadata": {},
   "source": [
    "## wikipedia 한국어 "
   ]
  },
  {
   "cell_type": "code",
   "execution_count": null,
   "metadata": {},
   "outputs": [
    {
     "name": "stdout",
     "output_type": "stream",
     "text": [
      "loading  https://ko.wikipedia.org/wiki/%EA%B2%BD%EC%A0%9C%ED%95%99\n",
      "loading  https://ko.wikipedia.org/wiki/%EC%95%84%ED%94%84%EB%A6%AC%EC%B9%B4%EC%9D%98_%EA%B2%BD%EC%A0%9C\n",
      "loading  https://ko.wikipedia.org/wiki/%EC%95%84%EC%8B%9C%EC%95%84%EC%9D%98_%EA%B2%BD%EC%A0%9C\n",
      "loading  https://ko.wikipedia.org/wiki/%EB%AF%B8%EC%8B%9C%EA%B2%BD%EC%A0%9C%ED%95%99\n",
      "loading  https://ko.wikipedia.org/wiki/%EA%B1%B0%EC%8B%9C%EA%B2%BD%EC%A0%9C%ED%95%99\n",
      "loading  https://ko.wikipedia.org/wiki/%EA%B2%BD%EC%A0%9C%EC%82%AC%EC%83%81%EC%82%AC\n",
      "loading  https://ko.wikipedia.org/wiki/%EA%B3%84%EB%9F%89%EA%B2%BD%EC%A0%9C%ED%95%99\n",
      "loading  https://ko.wikipedia.org/wiki/%EC%8B%A4%ED%97%98%EA%B2%BD%EC%A0%9C%ED%95%99\n",
      "loading  https://ko.wikipedia.org/wiki/%ED%96%89%EB%8F%99%EA%B2%BD%EC%A0%9C%ED%95%99\n",
      "loading  https://ko.wikipedia.org/wiki/%EB%AC%B8%ED%99%94%EA%B2%BD%EC%A0%9C%ED%95%99\n",
      "loading  https://ko.wikipedia.org/wiki/%EA%B2%BD%EC%A0%9C%EC%84%B1%EC%9E%A5\n",
      "loading  https://ko.wikipedia.org/wiki/%EA%B0%9C%EB%B0%9C%EA%B2%BD%EC%A0%9C%ED%95%99\n",
      "loading  https://ko.wikipedia.org/wiki/%EA%B2%BD%EC%A0%9C%EC%82%AC\n",
      "loading  https://ko.wikipedia.org/wiki/%EA%B5%AD%EC%A0%9C%EA%B2%BD%EC%A0%9C%ED%95%99\n",
      "loading  https://ko.wikipedia.org/wiki/%EA%B2%BD%EC%A0%9C_%EC%B2%B4%EC%A0%9C\n",
      "loading  https://ko.wikipedia.org/wiki/%EA%B3%B5%EA%B3%B5%EA%B2%BD%EC%A0%9C%ED%95%99\n",
      "loading  https://ko.wikipedia.org/wiki/%ED%9B%84%EC%83%9D%EA%B2%BD%EC%A0%9C%ED%95%99\n",
      "loading  https://ko.wikipedia.org/wiki/%EA%B5%90%EC%9C%A1%EA%B2%BD%EC%A0%9C%ED%95%99\n",
      "loading  https://ko.wikipedia.org/wiki/%EB%B3%B5%EC%A7%80\n"
     ]
    }
   ],
   "source": [
    "from urllib.request import urlopen\n",
    "from bs4 import BeautifulSoup\n",
    "import re\n",
    "import csv\n",
    "from urllib import parse\n",
    "\n",
    "def loadPage(baseUrl, path, targetDir, depth, indexWriter, linkset):\n",
    "    if path in linkset :\n",
    "        return\n",
    "    \n",
    "    linkset.add(path)\n",
    "    \n",
    "    url = baseUrl + path\n",
    "    print(\"loading \", url)\n",
    "    \n",
    "    try :\n",
    "        html = urlopen(url)\n",
    "        bsObj = BeautifulSoup(html, \"html.parser\")\n",
    "        title = bsObj.find(\"h1\", {\"id\":\"firstHeading\"}).text\n",
    "\n",
    "        contentsDiv = bsObj.find(\"div\", {\"id\":\"mw-content-text\"})\n",
    "        contentsDiv = contentsDiv.find(\"div\", {\"class\":\"mw-parser-output\"})\n",
    "        \n",
    "        paras = contentsDiv.findAll({\"h1\",\"h2\",\"h3\",\"h4\",\"h5\",\"h6\",\"p\"})\n",
    "        \n",
    "        links = []\n",
    "        linkTitles = []\n",
    "        for link in bsObj.find(\"div\", {\"id\":\"bodyContent\"}).findAll(\"a\", \n",
    "            href=re.compile(\"^(/wiki/)((?!:).)*$\")):\n",
    "              if 'href' in link.attrs:\n",
    "                  links.append(link.attrs['href'])\n",
    "                  linkTitles.append(link.text)\n",
    "\n",
    "        filename = parse.quote(title)\n",
    "        filename = filename.replace('/','_') + \".txt\"\n",
    "        filepath = targetDir + \"/\" + filename\n",
    "\n",
    "        indexWriter.writerow([title, filename])\n",
    "        \n",
    "        with open(filepath, 'w', encoding='utf-8') as file :\n",
    "            file.write(title)\n",
    "            file.write(\"\\n\\n\")\n",
    "            \n",
    "            \n",
    "            for l in linkTitles:\n",
    "                file.write(l)\n",
    "                file.write(\"\\n\")\n",
    "                \n",
    "            for p in paras:\n",
    "                if p.name == 'p':\n",
    "                    file.write(p.text)\n",
    "                else:\n",
    "                    p = p.find(\"span\",{\"class\":\"mw-headline\"})\n",
    "                    if p:\n",
    "                        file.write(p.text)\n",
    "                file.write(\"\\n\")\n",
    "            \n",
    "                \n",
    "            file.close()\n",
    "\n",
    "        if(depth > 0):\n",
    "            depth -= 1\n",
    "            for link in links:\n",
    "                loadPage(baseUrl, link, targetDir, depth, indexWriter, linkset)\n",
    "    except Exception as ex :  \n",
    "        print(ex)\n",
    "    \n",
    "        \n",
    "\n",
    "# 경제사상사 : /wiki/%EA%B2%BD%EC%A0%9C%EC%82%AC%EC%83%81%EC%82%AC\n",
    "economicThoughts = \"/wiki/%EA%B2%BD%EC%A0%9C%EC%82%AC%EC%83%81%EC%82%AC\"\n",
    "# 경제학 : /wiki/%EA%B2%BD%EC%A0%9C%ED%95%99\n",
    "economics = \"/wiki/%EA%B2%BD%EC%A0%9C%ED%95%99\"\n",
    "socialogy = \"/wiki/%EC%82%AC%ED%9A%8C%ED%95%99\"\n",
    "# 은닉마르코프 모델 : /wiki/%EC%9D%80%EB%8B%89_%EB%A7%88%EB%A5%B4%EC%BD%94%ED%94%84_%EB%AA%A8%EB%8D%B8\n",
    "markov = \"/wiki/%EC%9D%80%EB%8B%89_%EB%A7%88%EB%A5%B4%EC%BD%94%ED%94%84_%EB%AA%A8%EB%8D%B8\"\n",
    "# 체계이론 : /wiki/%EB%B6%84%EB%A5%98:%EC%B2%B4%EA%B3%84%EC%9D%B4%EB%A1%A0\n",
    "system = \"/wiki/%EB%B6%84%EB%A5%98:%EC%B2%B4%EA%B3%84%EC%9D%B4%EB%A1%A0\"\n",
    "# 보험\n",
    "insurance = \"/wiki/%EB%B3%B4%ED%97%98\"\n",
    "\n",
    "data_dir = \"../../data/wiki2\"\n",
    "\n",
    "with open(\"../../data/wiki_page_index.csv\", 'w', encoding='utf-8') as file :\n",
    "    indexWriter = csv.writer(file)\n",
    "    linkset = set()\n",
    "    loadPage(\"https://ko.wikipedia.org\", economics, \n",
    "             data_dir, 1, indexWriter, linkset)\n",
    "    file.close()"
   ]
  },
  {
   "cell_type": "code",
   "execution_count": 3,
   "metadata": {},
   "outputs": [
    {
     "name": "stdout",
     "output_type": "stream",
     "text": [
      "Init Trainer\n",
      "Init DocResolver\n",
      "0.0.5\n",
      "Loading Model from ../../output/7000/model/\n",
      "Load  ../../output/7000/model//heads.csv   소요시간: 1.453\n",
      "Load  ../../output/7000/model//tails.csv   소요시간: 0.013\n"
     ]
    }
   ],
   "source": [
    "import os\n",
    "import sys\n",
    "sys.path.insert(0, '../')\n",
    "import pycor\n",
    "\n",
    "model_size = 7000\n",
    "outputpath = \"../../output/\" + str(model_size) + \"/\"\n",
    "model_path = outputpath + \"model/\"\n",
    "\n",
    "def listfiles(path):\n",
    "    result_arr = []\n",
    "    filenames = os.listdir(path)\n",
    "    for filename in filenames:\n",
    "        full_filename = os.path.join(path, filename)\n",
    "        result_arr.append(full_filename)\n",
    "    return result_arr\n",
    "    \n",
    "files = listfiles(data_dir)\n",
    "\n",
    "\n",
    "print(pycor.version())\n",
    "pycor.loadmodel(model_path)"
   ]
  },
  {
   "cell_type": "code",
   "execution_count": 4,
   "metadata": {},
   "outputs": [
    {
     "name": "stdout",
     "output_type": "stream",
     "text": [
      "게마인자메 노름다타이 \n",
      "\n",
      "독일어 \n",
      "영어 \n",
      "독일 국립도서관 \n",
      "전거 파일 \n",
      "전거 통제 \n",
      "VIAF \n",
      "게마인자메 노름다타이 ( 독일어 : Gemeinsame Normdatei 영어 : Integrated Authority File GND ) 는 독일 국립도서관이 운영하는 전거 파일이다 . \n",
      "\n",
      "\n",
      "GND 엔티티 종류 \n",
      "GND에는 7개의 주요 엔티티가 있다 : \n",
      "[ 1 ] \n",
      "\n",
      "각주 \n",
      "외부 링크 \n"
     ]
    }
   ],
   "source": [
    "_,words_array = pycor.readfile(files[1])\n",
    "\n",
    "pycor.printSentences(words_array)\n"
   ]
  },
  {
   "cell_type": "code",
   "execution_count": 5,
   "metadata": {},
   "outputs": [
    {
     "name": "stdout",
     "output_type": "stream",
     "text": [
      "['게마인자메', '노름다타이']\n",
      "['독일어']\n",
      "['영']\n",
      "['독일', '국립도서관']\n",
      "['전거', '파일']\n",
      "['전거', '통제']\n",
      "['VIAF']\n",
      "['게마인자메', '노름다타이', '독일어', 'GEMEINSAME', 'NORMDATEI', '영', 'INTEGRATED', 'AUTHORITY', 'FILE', 'GND', '', '독일', '국립도서관', '운영하', '전거', '파일']\n",
      "['GND', '엔티티', '종류']\n",
      "['GND', '7개', '주요', '엔티티', '있']\n",
      "['1']\n",
      "['각주']\n",
      "['외부', '링크']\n"
     ]
    }
   ],
   "source": [
    "words_array, tags_array = pycor.__trim(words_array)\n",
    "\n",
    "for words in words_array:\n",
    "    print(words)"
   ]
  },
  {
   "cell_type": "code",
   "execution_count": 6,
   "metadata": {},
   "outputs": [
    {
     "name": "stdout",
     "output_type": "stream",
     "text": [
      "Init WikiResolver\n",
      "독일어 {'C'}\n",
      "영어 {'C'}\n",
      "VIAF {'C'}\n",
      "각주 {'C'}\n"
     ]
    }
   ],
   "source": [
    "\n",
    "from pycor.res import WikiResolver\n",
    "\n",
    "wikiResolver = WikiResolver(pycor.getmodel())\n",
    "\n",
    "pycor.setresolver(wikiResolver)\n",
    "\n",
    "_,words_array = pycor.readfile(files[1])\n",
    "\n",
    "keywords = wikiResolver.resolveKeywords(words_array)\n",
    "\n",
    "for word in keywords:\n",
    "    head = word.bestpair.head\n",
    "    print(head.text, head.pos)"
   ]
  },
  {
   "cell_type": "code",
   "execution_count": null,
   "metadata": {},
   "outputs": [],
   "source": []
  },
  {
   "cell_type": "code",
   "execution_count": null,
   "metadata": {},
   "outputs": [],
   "source": []
  }
 ],
 "metadata": {
  "kernelspec": {
   "display_name": "Environment (conda_conda)",
   "language": "python",
   "name": "conda_conda"
  },
  "language_info": {
   "codemirror_mode": {
    "name": "ipython",
    "version": 3
   },
   "file_extension": ".py",
   "mimetype": "text/x-python",
   "name": "python",
   "nbconvert_exporter": "python",
   "pygments_lexer": "ipython3",
   "version": "3.6.5"
  }
 },
 "nbformat": 4,
 "nbformat_minor": 2
}
