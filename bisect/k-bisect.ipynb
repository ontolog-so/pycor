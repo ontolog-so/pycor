{
 "cells": [
  {
   "cell_type": "markdown",
   "metadata": {},
   "source": [
    "# 한국어 키워드 추출\n",
    "### - 형태소 분석기 없이 문장 속에서 체언이나 용언의 어간을 추출\n"
   ]
  },
  {
   "cell_type": "code",
   "execution_count": 1,
   "metadata": {},
   "outputs": [],
   "source": [
    "import re\n",
    "import time\n",
    "import os\n",
    "import sys\n",
    "sys.path.insert(0, 'lib')\n",
    "from kbisect import Bisector\n",
    "\n",
    "def listfiles(path):\n",
    "    result_arr = []\n",
    "    filenames = os.listdir(path)\n",
    "    for filename in filenames:\n",
    "        full_filename = os.path.join(path, filename)\n",
    "        result_arr.append(full_filename)\n",
    "    return result_arr\n",
    "\n",
    "files = listfiles('../../data/wiki') "
   ]
  },
  {
   "cell_type": "code",
   "execution_count": 2,
   "metadata": {},
   "outputs": [
    {
     "name": "stdout",
     "output_type": "stream",
     "text": [
      "FILES : 1331\n",
      "Loading: 17.014 s.\n",
      "Words : 259428\n",
      "Heads : 404510\n",
      "Tails : 188882\n",
      "Scoring: 2.184 s.\n"
     ]
    }
   ],
   "source": [
    "bisector = Bisector(True)\n",
    "\n",
    "print(\"FILES :\", len(files))\n",
    "\n",
    "starttime = time.time()\n",
    "\n",
    "for file in files[:1000]:\n",
    "    try:\n",
    "        bisector.loadfile(file)\n",
    "    except Exception as e:\n",
    "        print(e, file)\n",
    "\n",
    "ellapsedtime = time.time() - starttime\n",
    "\n",
    "print(\"Loading:\", round(ellapsedtime,3) , \"s.\")\n",
    "\n",
    "model = bisector.model\n",
    "\n",
    "print(\"Words :\", len(model.words))\n",
    "print(\"Heads :\", len(model.heads))\n",
    "print(\"Tails :\", len(model.tails))\n",
    "\n",
    "\n",
    "starttime = time.time()\n",
    "\n",
    "bisector.score()\n",
    "\n",
    "ellapsedtime = time.time() - starttime\n",
    "print(\"Scoring:\", round(ellapsedtime,3) , \"s.\")\n"
   ]
  },
  {
   "cell_type": "code",
   "execution_count": 3,
   "metadata": {},
   "outputs": [],
   "source": [
    "\n",
    "bisector.writeBestPairs('../../output/bisect_bestpairs.csv')"
   ]
  },
  {
   "cell_type": "code",
   "execution_count": 4,
   "metadata": {},
   "outputs": [],
   "source": [
    "bisector.writeAllPairs('../../output/bisect_pairs.csv')"
   ]
  },
  {
   "cell_type": "code",
   "execution_count": null,
   "metadata": {},
   "outputs": [],
   "source": []
  }
 ],
 "metadata": {
  "kernelspec": {
   "display_name": "Environment (conda_conda)",
   "language": "python",
   "name": "conda_conda"
  },
  "language_info": {
   "codemirror_mode": {
    "name": "ipython",
    "version": 3
   },
   "file_extension": ".py",
   "mimetype": "text/x-python",
   "name": "python",
   "nbconvert_exporter": "python",
   "pygments_lexer": "ipython3",
   "version": "3.6.5"
  }
 },
 "nbformat": 4,
 "nbformat_minor": 2
}
